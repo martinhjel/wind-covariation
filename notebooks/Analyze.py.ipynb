{
 "cells": [
  {
   "cell_type": "code",
   "execution_count": null,
   "id": "e2e70586",
   "metadata": {
    "tags": [
     "snakemake-job-properties"
    ]
   },
   "outputs": [],
   "source": [
    "\n",
    "######## snakemake preamble start (automatically inserted, do not edit) ########\n",
    "import sys; sys.path.extend(['/Users/mah/Library/Caches/pypoetry/virtualenvs/wind-covariation-5bQZunuM-py3.11/lib/python3.11/site-packages', '/Users/mah/gitsource/wind-covariation/notebooks']); import pickle; snakemake = pickle.loads(b'\\x80\\x04\\x95\\x92\\x04\\x00\\x00\\x00\\x00\\x00\\x00\\x8c\\x10snakemake.script\\x94\\x8c\\tSnakemake\\x94\\x93\\x94)\\x81\\x94}\\x94(\\x8c\\x05input\\x94\\x8c\\x0csnakemake.io\\x94\\x8c\\nInputFiles\\x94\\x93\\x94)\\x81\\x94(\\x8c data/offshore_wind_locations.csv\\x94\\x8c data/nve_offshore_wind_areas.csv\\x94\\x8c\\x1cdata/processed/wind_data.csv\\x94e}\\x94(\\x8c\\x06_names\\x94}\\x94(\\x8c\\tlocations\\x94K\\x00N\\x86\\x94\\x8c\\rnve_locations\\x94K\\x01N\\x86\\x94\\x8c\\x08combined\\x94K\\x02N\\x86\\x94u\\x8c\\x12_allowed_overrides\\x94]\\x94(\\x8c\\x05index\\x94\\x8c\\x04sort\\x94eh\\x18\\x8c\\tfunctools\\x94\\x8c\\x07partial\\x94\\x93\\x94h\\x06\\x8c\\x19Namedlist._used_attribute\\x94\\x93\\x94\\x85\\x94R\\x94(h\\x1e)}\\x94\\x8c\\x05_name\\x94h\\x18sNt\\x94bh\\x19h\\x1ch\\x1e\\x85\\x94R\\x94(h\\x1e)}\\x94h\"h\\x19sNt\\x94bh\\x10h\\nh\\x12h\\x0bh\\x14h\\x0cub\\x8c\\x06output\\x94h\\x06\\x8c\\x0bOutputFiles\\x94\\x93\\x94)\\x81\\x94\\x8c\\x13images/my_image.pdf\\x94a}\\x94(h\\x0e}\\x94h\\x16]\\x94(h\\x18h\\x19eh\\x18h\\x1ch\\x1e\\x85\\x94R\\x94(h\\x1e)}\\x94h\"h\\x18sNt\\x94bh\\x19h\\x1ch\\x1e\\x85\\x94R\\x94(h\\x1e)}\\x94h\"h\\x19sNt\\x94bub\\x8c\\x06params\\x94h\\x06\\x8c\\x06Params\\x94\\x93\\x94)\\x81\\x94}\\x94(h\\x0e}\\x94h\\x16]\\x94(h\\x18h\\x19eh\\x18h\\x1ch\\x1e\\x85\\x94R\\x94(h\\x1e)}\\x94h\"h\\x18sNt\\x94bh\\x19h\\x1ch\\x1e\\x85\\x94R\\x94(h\\x1e)}\\x94h\"h\\x19sNt\\x94bub\\x8c\\twildcards\\x94h\\x06\\x8c\\tWildcards\\x94\\x93\\x94)\\x81\\x94}\\x94(h\\x0e}\\x94h\\x16]\\x94(h\\x18h\\x19eh\\x18h\\x1ch\\x1e\\x85\\x94R\\x94(h\\x1e)}\\x94h\"h\\x18sNt\\x94bh\\x19h\\x1ch\\x1e\\x85\\x94R\\x94(h\\x1e)}\\x94h\"h\\x19sNt\\x94bub\\x8c\\x07threads\\x94K\\x01\\x8c\\tresources\\x94h\\x06\\x8c\\tResources\\x94\\x93\\x94)\\x81\\x94(K\\x01K\\x01\\x8c0/var/folders/_c/vsl_fz_n62q_dg7lz4v2lb180000gn/T\\x94e}\\x94(h\\x0e}\\x94(\\x8c\\x06_cores\\x94K\\x00N\\x86\\x94\\x8c\\x06_nodes\\x94K\\x01N\\x86\\x94\\x8c\\x06tmpdir\\x94K\\x02N\\x86\\x94uh\\x16]\\x94(h\\x18h\\x19eh\\x18h\\x1ch\\x1e\\x85\\x94R\\x94(h\\x1e)}\\x94h\"h\\x18sNt\\x94bh\\x19h\\x1ch\\x1e\\x85\\x94R\\x94(h\\x1e)}\\x94h\"h\\x19sNt\\x94bh^K\\x01h`K\\x01hbh[ub\\x8c\\x03log\\x94h\\x06\\x8c\\x03Log\\x94\\x93\\x94)\\x81\\x94}\\x94(h\\x0e}\\x94h\\x16]\\x94(h\\x18h\\x19eh\\x18h\\x1ch\\x1e\\x85\\x94R\\x94(h\\x1e)}\\x94h\"h\\x18sNt\\x94bh\\x19h\\x1ch\\x1e\\x85\\x94R\\x94(h\\x1e)}\\x94h\"h\\x19sNt\\x94bub\\x8c\\x06config\\x94}\\x94\\x8c\\x04rule\\x94\\x8c\\x15run_analysis_notebook\\x94\\x8c\\x0fbench_iteration\\x94N\\x8c\\tscriptdir\\x94\\x8c//Users/mah/gitsource/wind-covariation/notebooks\\x94ub.'); from snakemake.logging import logger; logger.printshellcmds = False; import os; os.chdir(r'/Users/mah/gitsource/wind-covariation');\n",
    "######## snakemake preamble end #########\n"
   ]
  },
  {
   "cell_type": "code",
   "execution_count": null,
   "id": "440557bc",
   "metadata": {},
   "outputs": [],
   "source": [
    "%load_ext autoreload\n",
    "%autoreload 2"
   ]
  },
  {
   "attachments": {},
   "cell_type": "markdown",
   "id": "433f2dd8",
   "metadata": {},
   "source": [
    "# Imports"
   ]
  },
  {
   "cell_type": "code",
   "execution_count": null,
   "id": "6870104a",
   "metadata": {},
   "outputs": [],
   "source": [
    "# start coding here\n",
    "import os\n",
    "import sys\n",
    "import argparse\n",
    "from pathlib import Path\n",
    "\n",
    "import numpy as np\n",
    "import pandas as pd\n",
    "import plotly.express as px\n",
    "\n",
    "sys.path.insert(1, os.path.join(sys.path[0], \"..\"))\n",
    "from Wind.analyze import (\n",
    "    get_corr_figure,\n",
    "    get_hours_shift_figure,\n",
    "    get_mean_std_wind_figure,\n",
    "    get_corr_distance_figure,\n",
    "    get_line_plot_with_mean,\n",
    "    get_histogram_2d_figure,\n",
    "    get_scatter_2d_figure,\n",
    "    get_scatter_with_kernel_density_2d_figure,\n",
    "    get_scatter_density_2d_figure,\n",
    ")\n"
   ]
  },
  {
   "cell_type": "markdown",
   "id": "8415cd05",
   "metadata": {},
   "source": [
    "# Snakemake inputs"
   ]
  },
  {
   "cell_type": "code",
   "execution_count": null,
   "id": "808b1b3a",
   "metadata": {},
   "outputs": [],
   "source": [
    "wind_locations_file = Path(snakemake.input[0])\n",
    "wind_nve_locations_file = Path(snakemake.input[1])\n",
    "wind_data_file = Path(snakemake.input[2])"
   ]
  },
  {
   "cell_type": "markdown",
   "id": "36cc5299",
   "metadata": {},
   "source": [
    "\n",
    "# Read data"
   ]
  },
  {
   "cell_type": "code",
   "execution_count": null,
   "id": "952375e0",
   "metadata": {},
   "outputs": [],
   "source": [
    "\n",
    "df_wind_locations = pd.read_csv(wind_locations_file)\n",
    "df_nve_wind_locations = pd.read_csv(wind_nve_locations_file, index_col=0)\n",
    "df_nve_wind_locations = df_nve_wind_locations.sort_values(by=\"lat\")  # Sort by south to north\n",
    "\n",
    "df_locations = pd.concat([df_wind_locations, df_nve_wind_locations], axis=0)\n",
    "df_locations = df_locations.reset_index(drop=True)\n",
    "df_locations = df_locations.sort_values(by=\"lat\")  # Sort by south to north\n",
    "\n",
    "df = pd.read_csv(wind_data_file, index_col=0)\n",
    "df.index = pd.to_datetime(df.index)\n"
   ]
  },
  {
   "cell_type": "code",
   "execution_count": null,
   "id": "3b2938c9",
   "metadata": {},
   "outputs": [],
   "source": [
    "# Plot locations on map\n",
    "fig = px.scatter_mapbox(\n",
    "    df_locations,\n",
    "    lat=\"lat\",\n",
    "    lon=\"lon\",\n",
    "    color=\"location\",\n",
    "    zoom=3,\n",
    "    size_max=10,\n",
    "    height=600,\n",
    "    size=[3 for _ in df_locations.iterrows()],\n",
    ")\n",
    "fig.update_layout(mapbox_style=\"open-street-map\")\n",
    "fig.update_layout(margin={\"r\": 0, \"t\": 0, \"l\": 0, \"b\": 0})\n",
    "fig.show(config=dict(editable=True))\n"
   ]
  },
  {
   "cell_type": "code",
   "execution_count": null,
   "id": "b6b02235",
   "metadata": {},
   "outputs": [],
   "source": [
    "\n",
    "df_mean_wind_nve = df[df_nve_wind_locations[\"location\"]].mean()\n",
    "# df_mean_wind_nve.to_csv(\"data/mean_wind.csv\")\n",
    "fig = px.bar(df_mean_wind_nve, text_auto=\".2\", title=\"\")\n",
    "fig.update_traces(textfont_size=12, textangle=0, textposition=\"inside\", cliponaxis=False)\n",
    "fig.update_layout(\n",
    "    xaxis_title=\"Wind farm\", yaxis_title=\"Mean wind power output\", showlegend=False, template=\"plotly_white\", width=1000\n",
    ")\n",
    "fig.show()\n"
   ]
  },
  {
   "cell_type": "code",
   "execution_count": null,
   "id": "10583b70",
   "metadata": {},
   "outputs": [],
   "source": [
    "\n",
    "# Plot correlation\n",
    "fig = get_corr_figure(df)\n",
    "fig.show()\n",
    "\n",
    "fig = get_corr_distance_figure(df, df_locations)\n",
    "fig.show()"
   ]
  },
  {
   "cell_type": "code",
   "execution_count": null,
   "id": "eb0ef40e",
   "metadata": {},
   "outputs": [],
   "source": [
    "\n",
    "# Plot short-term variation\n",
    "n_shifts = 25\n",
    "quantile = 0.8\n",
    "\n",
    "fig = get_hours_shift_figure(df, df_nve_wind_locations, n_shifts, quantile)\n",
    "fig.update_layout(width=900)\n",
    "fig.show()"
   ]
  },
  {
   "cell_type": "code",
   "execution_count": null,
   "id": "e0615373",
   "metadata": {},
   "outputs": [],
   "source": [
    "\n",
    "fig = get_hours_shift_figure(df, df_nve_wind_locations, n_shifts, quantile=0.9999)\n",
    "fig.update_layout(width=900)\n",
    "fig.show()"
   ]
  },
  {
   "cell_type": "code",
   "execution_count": null,
   "id": "ddd5a584",
   "metadata": {},
   "outputs": [],
   "source": [
    "\n",
    "fig = px.area(df.resample(\"1D\").mean())\n",
    "fig.show()"
   ]
  },
  {
   "cell_type": "code",
   "execution_count": null,
   "id": "fed425f7",
   "metadata": {},
   "outputs": [],
   "source": [
    "resample_period = \"7D\"\n",
    "fig = get_mean_std_wind_figure(df, resample_period)\n",
    "fig.show()"
   ]
  },
  {
   "cell_type": "code",
   "execution_count": null,
   "id": "631ad54b",
   "metadata": {},
   "outputs": [],
   "source": [
    "df[\"BE\"].sort_values().plot()\n",
    "vals = df[\"BE\"].values\n",
    "x = np.linspace(0, 1, len(vals))\n",
    "px.line(x=x, y=np.sort(vals))"
   ]
  },
  {
   "cell_type": "code",
   "execution_count": null,
   "id": "832ac356",
   "metadata": {},
   "outputs": [],
   "source": [
    "\n",
    "px.line(df[\"BE\"].sample(10000).sort_values().values)"
   ]
  },
  {
   "cell_type": "code",
   "execution_count": null,
   "id": "47a80df3",
   "metadata": {},
   "outputs": [],
   "source": [
    "\n",
    "### Line plots\n",
    "area = \"Utsira nord\"\n",
    "resample_period = \"7D\"\n",
    "fig = get_line_plot_with_mean(df, area, resample_period)\n",
    "fig.show()"
   ]
  },
  {
   "cell_type": "code",
   "execution_count": null,
   "id": "957f38d8",
   "metadata": {},
   "outputs": [],
   "source": [
    "resample_period = \"1H\"\n",
    "fig = get_line_plot_with_mean(df, area, resample_period)\n",
    "fig.show()"
   ]
  },
  {
   "cell_type": "code",
   "execution_count": null,
   "id": "518e43a0",
   "metadata": {},
   "outputs": [],
   "source": [
    "# resample_period = \"1H\"\n",
    "# fig = get_mean_std_wind_yearly_figure(df, resample_period)"
   ]
  },
  {
   "cell_type": "code",
   "execution_count": null,
   "id": "8df41e19",
   "metadata": {},
   "outputs": [],
   "source": [
    "## Scatter plots\n",
    "df.columns\n",
    "area_a = \"Sørlige Nordsjø II\"  # \"Utsira nord\"\n",
    "area_b = \"DE West\"  # \"Auvær\"\n",
    "\n",
    "fig = get_scatter_2d_figure(df.sample(10000), area_a, area_b)\n",
    "fig.show()"
   ]
  },
  {
   "cell_type": "code",
   "execution_count": null,
   "id": "0e407d83",
   "metadata": {},
   "outputs": [],
   "source": [
    "\n",
    "fig = get_histogram_2d_figure(df, area_a, area_b)\n",
    "fig.show()"
   ]
  },
  {
   "cell_type": "code",
   "execution_count": null,
   "id": "96bcdca7",
   "metadata": {},
   "outputs": [],
   "source": [
    "\n",
    "## Kernel density plots\n",
    "N = 50\n",
    "fig = get_scatter_with_kernel_density_2d_figure(\n",
    "    df, area_a, area_b, N, z_max=4, n_scatter_samples=500, bandwidth=0.1, rtol=0.01, kernel=\"epanechnikov\"\n",
    ")\n",
    "fig.show()"
   ]
  },
  {
   "cell_type": "code",
   "execution_count": null,
   "id": "1b237c10",
   "metadata": {},
   "outputs": [],
   "source": [
    "\n",
    "fig = get_scatter_with_kernel_density_2d_figure(\n",
    "    df, area_a, area_b, N, z_max=4, n_scatter_samples=500, bandwidth=0.1, rtol=0.01, kernel=\"gaussian\"\n",
    ")\n",
    "fig.show()"
   ]
  },
  {
   "cell_type": "code",
   "execution_count": null,
   "id": "2081c228",
   "metadata": {},
   "outputs": [],
   "source": [
    "\n",
    "area_a = \"Sørlige Nordsjø II\"\n",
    "area_b = \"Nordmela\"  # \"Utsira nord\"\n",
    "fig = get_scatter_with_kernel_density_2d_figure(\n",
    "    df, area_a, area_b, N, z_max=4, n_scatter_samples=500, bandwidth=0.1, rtol=0.01, kernel=\"gaussian\"\n",
    ")\n",
    "fig.show()"
   ]
  },
  {
   "cell_type": "code",
   "execution_count": null,
   "id": "1bc51fd3",
   "metadata": {},
   "outputs": [],
   "source": [
    "\n",
    "# fig1 = get_scatter_density_2d_figure(df.sample(10000), area_a, area_b)\n",
    "# fig1.show()"
   ]
  },
  {
   "cell_type": "code",
   "execution_count": null,
   "id": "5b60f55a",
   "metadata": {},
   "outputs": [],
   "source": []
  },
  {
   "cell_type": "code",
   "execution_count": null,
   "id": "fdd20a18",
   "metadata": {},
   "outputs": [],
   "source": [
    "# %%\n",
    "import plotly.graph_objects as go\n",
    "df[\"Sum\"] = df.mean(axis=1)\n",
    "df_diff = df.diff(periods=1)\n",
    "\n",
    "data = []\n",
    "for col in [\"BE\", \"Sørlige Nordsjø II\", \"Sum\"]:\n",
    "    bins = np.arange(-0.7, 0.7, 0.001)\n",
    "    hist, bin_edges = np.histogram(df_diff[col], bins=bins, density=True)\n",
    "    data.append(go.Bar(x=bin_edges, y=hist, opacity=0.8, name=col))\n",
    "\n",
    "layout = go.Layout(\n",
    "    title_text=\"\", xaxis_title_text=\"Hourly changes of wind outputs\", yaxis_title_text=\"Probability\", barmode=\"overlay\"\n",
    ")\n",
    "\n",
    "fig = go.Figure(data=data, layout=layout)\n",
    "fig.show()\n",
    "\n"
   ]
  },
  {
   "cell_type": "code",
   "execution_count": null,
   "id": "5439d537",
   "metadata": {},
   "outputs": [],
   "source": [
    "df_diff = df.resample(\"1D\").mean().diff(periods=1)\n",
    "\n",
    "data = []\n",
    "for col in [\"BE\", \"Sørlige Nordsjø II\", \"Sum\"]:\n",
    "    bins = np.arange(-0.7, 0.7, 0.008)\n",
    "    hist, bin_edges = np.histogram(df_diff[col], bins=bins, density=True)\n",
    "    data.append(go.Bar(x=bin_edges, y=hist, opacity=0.8, name=col))\n",
    "\n",
    "layout = go.Layout(\n",
    "    title_text=\"\", xaxis_title_text=\"Daily changes of wind outputs\", yaxis_title_text=\"Probability\", barmode=\"overlay\"\n",
    ")\n",
    "\n",
    "fig = go.Figure(data=data, layout=layout)\n",
    "fig.show()"
   ]
  },
  {
   "cell_type": "code",
   "execution_count": null,
   "id": "34b0639a",
   "metadata": {},
   "outputs": [],
   "source": [
    "\n",
    "# %%\n",
    "df_diff = df.resample(\"7D\").mean().diff(periods=1)\n",
    "\n",
    "data = []\n",
    "for col in [\"BE\", \"Sørlige Nordsjø II\", \"Sum\"]:\n",
    "    bins = np.arange(-0.7, 0.7, 0.01)\n",
    "    hist, bin_edges = np.histogram(df_diff[col], bins=bins, density=True)\n",
    "    data.append(go.Bar(x=bin_edges, y=hist, opacity=0.8, name=col))\n",
    "\n",
    "layout = go.Layout(\n",
    "    title_text=\"\", xaxis_title_text=\"Weekly changes of wind outputs\", yaxis_title_text=\"Probability\", barmode=\"overlay\"\n",
    ")\n",
    "\n",
    "fig = go.Figure(data=data, layout=layout)\n",
    "fig.show()\n",
    "# %%"
   ]
  },
  {
   "cell_type": "code",
   "execution_count": null,
   "id": "b5e11daf",
   "metadata": {},
   "outputs": [],
   "source": [
    "\n",
    "from sklearn.neighbors import KernelDensity\n",
    "import plotly.graph_objects as go\n",
    "\n",
    "data = []\n",
    "col = \"BE\"\n",
    "diff = df[col].resample(\"1H\").mean().diff(periods=1)\n",
    "bins = np.arange(-0.7, 0.7, 0.001)\n",
    "hist, bin_edges = np.histogram(diff, bins=bins, density=True)\n",
    "data.append(go.Bar(x=bin_edges, y=hist, opacity=0.8, name=\"hourly\"))\n",
    "kde = KernelDensity(kernel=\"gaussian\", bandwidth=0.02).fit(diff.dropna().values[:, np.newaxis])\n",
    "data.append(go.Line(x=bins, y=np.exp(kde.score_samples(bins[:, np.newaxis])), name=\"hourly\"))\n",
    "\n",
    "diff = df[col].resample(\"1H\").mean().diff(periods=2)\n",
    "bins = np.arange(-0.7, 0.7, 0.001)\n",
    "hist, bin_edges = np.histogram(diff, bins=bins, density=True)\n",
    "data.append(go.Bar(x=bin_edges, y=hist, opacity=0.8, name=\"bihourly\"))\n",
    "kde = KernelDensity(kernel=\"gaussian\", bandwidth=0.02).fit(diff.dropna().values[:, np.newaxis])\n",
    "data.append(go.Line(x=bins, y=np.exp(kde.score_samples(bins[:, np.newaxis])), name=\"bihourly\"))\n",
    "\n",
    "\n",
    "diff = df[col].resample(\"1D\").mean().diff(periods=1)\n",
    "bins = np.arange(-0.7, 0.7, 0.008)\n",
    "hist, bin_edges = np.histogram(diff, bins=bins, density=True)\n",
    "data.append(go.Bar(x=bin_edges, y=hist, opacity=0.8, name=\"daily\"))\n",
    "kde = KernelDensity(kernel=\"gaussian\", bandwidth=0.02).fit(diff.dropna().values[:, np.newaxis])\n",
    "data.append(go.Line(x=bins, y=np.exp(kde.score_samples(bins[:, np.newaxis]))))\n",
    "\n",
    "\n",
    "diff = df[col].resample(\"7D\").mean().diff(periods=1)\n",
    "bins = np.arange(-0.7, 0.7, 0.01)\n",
    "hist, bin_edges = np.histogram(diff, bins=bins, density=True)\n",
    "data.append(go.Bar(x=bin_edges, y=hist, opacity=0.8, name=\"weekly\"))\n",
    "kde = KernelDensity(kernel=\"gaussian\", bandwidth=0.02).fit(diff.dropna().values[:, np.newaxis])\n",
    "data.append(go.Line(x=bins, y=np.exp(kde.score_samples(bins[:, np.newaxis]))))\n",
    "\n",
    "\n",
    "diff = df[col].resample(\"1M\").mean().diff(periods=1)\n",
    "bins = np.arange(-0.7, 0.7, 0.02)\n",
    "hist, bin_edges = np.histogram(diff, bins=bins, density=True)\n",
    "data.append(go.Bar(x=bin_edges, y=hist, opacity=0.8, name=\"monthly\"))\n",
    "kde = KernelDensity(kernel=\"gaussian\", bandwidth=0.02).fit(diff.dropna().values[:, np.newaxis])\n",
    "data.append(go.Line(x=bins, y=np.exp(kde.score_samples(bins[:, np.newaxis]))))\n",
    "\n",
    "\n",
    "layout = go.Layout(\n",
    "    title_text=\"\", xaxis_title_text=\"Changes in wind outputs\", yaxis_title_text=\"Probability\", barmode=\"overlay\"\n",
    ")\n",
    "\n",
    "fig = go.Figure(data=data, layout=layout)\n",
    "fig.show()\n",
    "\n",
    "# %%\n"
   ]
  }
 ],
 "metadata": {
  "kernelspec": {
   "display_name": "wind-covariation-5bQZunuM-py3.11",
   "language": "python",
   "name": "python3"
  },
  "language_info": {
   "codemirror_mode": {
    "name": "ipython",
    "version": 3
   },
   "file_extension": ".py",
   "mimetype": "text/x-python",
   "name": "python",
   "nbconvert_exporter": "python",
   "pygments_lexer": "ipython3",
   "version": "3.11.2"
  }
 },
 "nbformat": 4,
 "nbformat_minor": 5
}
