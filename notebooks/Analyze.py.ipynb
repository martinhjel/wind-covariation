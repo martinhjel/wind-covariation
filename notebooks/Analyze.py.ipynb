{
 "cells": [
  {
   "cell_type": "code",
   "execution_count": 1,
   "id": "e2e70586",
   "metadata": {
    "tags": [
     "snakemake-job-properties"
    ]
   },
   "outputs": [
    {
     "ename": "FileNotFoundError",
     "evalue": "[Errno 2] No such file or directory: '/Users/mah/gitsource/wind-covariation'",
     "output_type": "error",
     "traceback": [
      "\u001b[0;31m---------------------------------------------------------------------------\u001b[0m",
      "\u001b[0;31mFileNotFoundError\u001b[0m                         Traceback (most recent call last)",
      "Cell \u001b[0;32mIn[1], line 2\u001b[0m\n\u001b[1;32m      1\u001b[0m \u001b[39m######## snakemake preamble start (automatically inserted, do not edit) ########\u001b[39;00m\n\u001b[0;32m----> 2\u001b[0m \u001b[39mimport\u001b[39;00m \u001b[39msys\u001b[39;00m; sys\u001b[39m.\u001b[39mpath\u001b[39m.\u001b[39mextend([\u001b[39m'\u001b[39m\u001b[39m/Users/mah/Library/Caches/pypoetry/virtualenvs/wind-covariation-5bQZunuM-py3.11/lib/python3.11/site-packages\u001b[39m\u001b[39m'\u001b[39m, \u001b[39m'\u001b[39m\u001b[39m/Users/mah/Library/Caches/snakemake/snakemake/source-cache/runtime-cache/tmpw6qbe1t9/file/Users/mah/gitsource/wind-covariation/notebooks\u001b[39m\u001b[39m'\u001b[39m, \u001b[39m'\u001b[39m\u001b[39m/Users/mah/gitsource/wind-covariation/notebooks\u001b[39m\u001b[39m'\u001b[39m]); \u001b[39mimport\u001b[39;00m \u001b[39mpickle\u001b[39;00m; snakemake \u001b[39m=\u001b[39m pickle\u001b[39m.\u001b[39mloads(\u001b[39mb\u001b[39m\u001b[39m'\u001b[39m\u001b[39m\\x80\u001b[39;00m\u001b[39m\\x04\u001b[39;00m\u001b[39m\\x95\u001b[39;00m\u001b[39mz\u001b[39m\u001b[39m\\x07\u001b[39;00m\u001b[39m\\x00\u001b[39;00m\u001b[39m\\x00\u001b[39;00m\u001b[39m\\x00\u001b[39;00m\u001b[39m\\x00\u001b[39;00m\u001b[39m\\x00\u001b[39;00m\u001b[39m\\x00\u001b[39;00m\u001b[39m\\x8c\u001b[39;00m\u001b[39m\\x10\u001b[39;00m\u001b[39msnakemake.script\u001b[39m\u001b[39m\\x94\u001b[39;00m\u001b[39m\\x8c\u001b[39;00m\u001b[39m\\t\u001b[39;00m\u001b[39mSnakemake\u001b[39m\u001b[39m\\x94\u001b[39;00m\u001b[39m\\x93\u001b[39;00m\u001b[39m\\x94\u001b[39;00m\u001b[39m)\u001b[39m\u001b[39m\\x81\u001b[39;00m\u001b[39m\\x94\u001b[39;00m\u001b[39m}\u001b[39m\u001b[39m\\x94\u001b[39;00m\u001b[39m(\u001b[39m\u001b[39m\\x8c\u001b[39;00m\u001b[39m\\x05\u001b[39;00m\u001b[39minput\u001b[39m\u001b[39m\\x94\u001b[39;00m\u001b[39m\\x8c\u001b[39;00m\u001b[39m\\x0c\u001b[39;00m\u001b[39msnakemake.io\u001b[39m\u001b[39m\\x94\u001b[39;00m\u001b[39m\\x8c\u001b[39;00m\u001b[39m\\n\u001b[39;00m\u001b[39mInputFiles\u001b[39m\u001b[39m\\x94\u001b[39;00m\u001b[39m\\x93\u001b[39;00m\u001b[39m\\x94\u001b[39;00m\u001b[39m)\u001b[39m\u001b[39m\\x81\u001b[39;00m\u001b[39m\\x94\u001b[39;00m\u001b[39m(\u001b[39m\u001b[39m\\x8c\u001b[39;00m\u001b[39m data/offshore_wind_locations.csv\u001b[39m\u001b[39m\\x94\u001b[39;00m\u001b[39m\\x8c\u001b[39;00m\u001b[39m data/nve_offshore_wind_areas.csv\u001b[39m\u001b[39m\\x94\u001b[39;00m\u001b[39m\\x8c\u001b[39;00m\u001b[39m\\x1c\u001b[39;00m\u001b[39mdata/processed/wind_data.csv\u001b[39m\u001b[39m\\x94\u001b[39;00m\u001b[39m\\x8c\u001b[39;00m\u001b[39m5data/processed/augmented_lagrangian/alp_0.5/model.pkl\u001b[39m\u001b[39m\\x94\u001b[39;00m\u001b[39m\\x8c\u001b[39;00m\u001b[39m5data/processed/augmented_lagrangian/alp_0.3/model.pkl\u001b[39m\u001b[39m\\x94\u001b[39;00m\u001b[39m\\x8c\u001b[39;00m\u001b[39m5data/processed/augmented_lagrangian/alp_0.1/model.pkl\u001b[39m\u001b[39m\\x94\u001b[39;00m\u001b[39m\\x8c\u001b[39;00m\u001b[39m5data/processed/augmented_lagrangian/alp_0.0/model.pkl\u001b[39m\u001b[39m\\x94\u001b[39;00m\u001b[39me}\u001b[39m\u001b[39m\\x94\u001b[39;00m\u001b[39m(\u001b[39m\u001b[39m\\x8c\u001b[39;00m\u001b[39m\\x06\u001b[39;00m\u001b[39m_names\u001b[39m\u001b[39m\\x94\u001b[39;00m\u001b[39m}\u001b[39m\u001b[39m\\x94\u001b[39;00m\u001b[39m(\u001b[39m\u001b[39m\\x8c\u001b[39;00m\u001b[39m\\t\u001b[39;00m\u001b[39mlocations\u001b[39m\u001b[39m\\x94\u001b[39;00m\u001b[39mK\u001b[39m\u001b[39m\\x00\u001b[39;00m\u001b[39mN\u001b[39m\u001b[39m\\x86\u001b[39;00m\u001b[39m\\x94\u001b[39;00m\u001b[39m\\x8c\u001b[39;00m\u001b[39m\\r\u001b[39;00m\u001b[39mnve_locations\u001b[39m\u001b[39m\\x94\u001b[39;00m\u001b[39mK\u001b[39m\u001b[39m\\x01\u001b[39;00m\u001b[39mN\u001b[39m\u001b[39m\\x86\u001b[39;00m\u001b[39m\\x94\u001b[39;00m\u001b[39m\\x8c\u001b[39;00m\u001b[39m\\x08\u001b[39;00m\u001b[39mcombined\u001b[39m\u001b[39m\\x94\u001b[39;00m\u001b[39mK\u001b[39m\u001b[39m\\x02\u001b[39;00m\u001b[39mN\u001b[39m\u001b[39m\\x86\u001b[39;00m\u001b[39m\\x94\u001b[39;00m\u001b[39m\\x8c\u001b[39;00m\u001b[39m\\x06\u001b[39;00m\u001b[39mmodels\u001b[39m\u001b[39m\\x94\u001b[39;00m\u001b[39mK\u001b[39m\u001b[39m\\x03\u001b[39;00m\u001b[39mK\u001b[39m\u001b[39m\\x07\u001b[39;00m\u001b[39m\\x86\u001b[39;00m\u001b[39m\\x94\u001b[39;00m\u001b[39mu\u001b[39m\u001b[39m\\x8c\u001b[39;00m\u001b[39m\\x12\u001b[39;00m\u001b[39m_allowed_overrides\u001b[39m\u001b[39m\\x94\u001b[39;00m\u001b[39m]\u001b[39m\u001b[39m\\x94\u001b[39;00m\u001b[39m(\u001b[39m\u001b[39m\\x8c\u001b[39;00m\u001b[39m\\x05\u001b[39;00m\u001b[39mindex\u001b[39m\u001b[39m\\x94\u001b[39;00m\u001b[39m\\x8c\u001b[39;00m\u001b[39m\\x04\u001b[39;00m\u001b[39msort\u001b[39m\u001b[39m\\x94\u001b[39;00m\u001b[39meh\u001b[39m\u001b[39m\\x1e\u001b[39;00m\u001b[39m\\x8c\u001b[39;00m\u001b[39m\\t\u001b[39;00m\u001b[39mfunctools\u001b[39m\u001b[39m\\x94\u001b[39;00m\u001b[39m\\x8c\u001b[39;00m\u001b[39m\\x07\u001b[39;00m\u001b[39mpartial\u001b[39m\u001b[39m\\x94\u001b[39;00m\u001b[39m\\x93\u001b[39;00m\u001b[39m\\x94\u001b[39;00m\u001b[39mh\u001b[39m\u001b[39m\\x06\u001b[39;00m\u001b[39m\\x8c\u001b[39;00m\u001b[39m\\x19\u001b[39;00m\u001b[39mNamedlist._used_attribute\u001b[39m\u001b[39m\\x94\u001b[39;00m\u001b[39m\\x93\u001b[39;00m\u001b[39m\\x94\u001b[39;00m\u001b[39m\\x85\u001b[39;00m\u001b[39m\\x94\u001b[39;00m\u001b[39mR\u001b[39m\u001b[39m\\x94\u001b[39;00m\u001b[39m(h$)}\u001b[39m\u001b[39m\\x94\u001b[39;00m\u001b[39m\\x8c\u001b[39;00m\u001b[39m\\x05\u001b[39;00m\u001b[39m_name\u001b[39m\u001b[39m\\x94\u001b[39;00m\u001b[39mh\u001b[39m\u001b[39m\\x1e\u001b[39;00m\u001b[39msNt\u001b[39m\u001b[39m\\x94\u001b[39;00m\u001b[39mbh\u001b[39m\u001b[39m\\x1f\u001b[39;00m\u001b[39mh\u001b[39m\u001b[39m\"\u001b[39m\u001b[39mh$\u001b[39m\u001b[39m\\x85\u001b[39;00m\u001b[39m\\x94\u001b[39;00m\u001b[39mR\u001b[39m\u001b[39m\\x94\u001b[39;00m\u001b[39m(h$)}\u001b[39m\u001b[39m\\x94\u001b[39;00m\u001b[39mh(h\u001b[39m\u001b[39m\\x1f\u001b[39;00m\u001b[39msNt\u001b[39m\u001b[39m\\x94\u001b[39;00m\u001b[39mbh\u001b[39m\u001b[39m\\x14\u001b[39;00m\u001b[39mh\u001b[39m\u001b[39m\\n\u001b[39;00m\u001b[39mh\u001b[39m\u001b[39m\\x16\u001b[39;00m\u001b[39mh\u001b[39m\u001b[39m\\x0b\u001b[39;00m\u001b[39mh\u001b[39m\u001b[39m\\x18\u001b[39;00m\u001b[39mh\u001b[39m\u001b[39m\\x0c\u001b[39;00m\u001b[39mh\u001b[39m\u001b[39m\\x1a\u001b[39;00m\u001b[39mh\u001b[39m\u001b[39m\\x06\u001b[39;00m\u001b[39m\\x8c\u001b[39;00m\u001b[39m\\t\u001b[39;00m\u001b[39mNamedlist\u001b[39m\u001b[39m\\x94\u001b[39;00m\u001b[39m\\x93\u001b[39;00m\u001b[39m\\x94\u001b[39;00m\u001b[39m)\u001b[39m\u001b[39m\\x81\u001b[39;00m\u001b[39m\\x94\u001b[39;00m\u001b[39m(h\u001b[39m\u001b[39m\\r\u001b[39;00m\u001b[39mh\u001b[39m\u001b[39m\\x0e\u001b[39;00m\u001b[39mh\u001b[39m\u001b[39m\\x0f\u001b[39;00m\u001b[39mh\u001b[39m\u001b[39m\\x10\u001b[39;00m\u001b[39me}\u001b[39m\u001b[39m\\x94\u001b[39;00m\u001b[39m(h\u001b[39m\u001b[39m\\x12\u001b[39;00m\u001b[39m}\u001b[39m\u001b[39m\\x94\u001b[39;00m\u001b[39mh\u001b[39m\u001b[39m\\x1c\u001b[39;00m\u001b[39m]\u001b[39m\u001b[39m\\x94\u001b[39;00m\u001b[39m(h\u001b[39m\u001b[39m\\x1e\u001b[39;00m\u001b[39mh\u001b[39m\u001b[39m\\x1f\u001b[39;00m\u001b[39meh\u001b[39m\u001b[39m\\x1e\u001b[39;00m\u001b[39mh\u001b[39m\u001b[39m\"\u001b[39m\u001b[39mh$\u001b[39m\u001b[39m\\x85\u001b[39;00m\u001b[39m\\x94\u001b[39;00m\u001b[39mR\u001b[39m\u001b[39m\\x94\u001b[39;00m\u001b[39m(h$)}\u001b[39m\u001b[39m\\x94\u001b[39;00m\u001b[39mh(h\u001b[39m\u001b[39m\\x1e\u001b[39;00m\u001b[39msNt\u001b[39m\u001b[39m\\x94\u001b[39;00m\u001b[39mbh\u001b[39m\u001b[39m\\x1f\u001b[39;00m\u001b[39mh\u001b[39m\u001b[39m\"\u001b[39m\u001b[39mh$\u001b[39m\u001b[39m\\x85\u001b[39;00m\u001b[39m\\x94\u001b[39;00m\u001b[39mR\u001b[39m\u001b[39m\\x94\u001b[39;00m\u001b[39m(h$)}\u001b[39m\u001b[39m\\x94\u001b[39;00m\u001b[39mh(h\u001b[39m\u001b[39m\\x1f\u001b[39;00m\u001b[39msNt\u001b[39m\u001b[39m\\x94\u001b[39;00m\u001b[39mbubub\u001b[39m\u001b[39m\\x8c\u001b[39;00m\u001b[39m\\x06\u001b[39;00m\u001b[39moutput\u001b[39m\u001b[39m\\x94\u001b[39;00m\u001b[39mh\u001b[39m\u001b[39m\\x06\u001b[39;00m\u001b[39m\\x8c\u001b[39;00m\u001b[39m\\x0b\u001b[39;00m\u001b[39mOutputFiles\u001b[39m\u001b[39m\\x94\u001b[39;00m\u001b[39m\\x93\u001b[39;00m\u001b[39m\\x94\u001b[39;00m\u001b[39m)\u001b[39m\u001b[39m\\x81\u001b[39;00m\u001b[39m\\x94\u001b[39;00m\u001b[39m(\u001b[39m\u001b[39m\\x8c\u001b[39;00m\u001b[39m\\x18\u001b[39;00m\u001b[39mimages/corr-distance.pdf\u001b[39m\u001b[39m\\x94\u001b[39;00m\u001b[39m\\x8c\u001b[39;00m\u001b[39m\\x1c\u001b[39;00m\u001b[39mimages/shift-quantile0.9.pdf\u001b[39m\u001b[39m\\x94\u001b[39;00m\u001b[39m\\x8c\u001b[39;00m\u001b[39m\\x1f\u001b[39;00m\u001b[39mimages/shift-quantile0.9999.pdf\u001b[39m\u001b[39m\\x94\u001b[39;00m\u001b[39m\\x8c\u001b[39;00m\u001b[39m\"\u001b[39m\u001b[39mimages/utsira-nord-std-wind-7D.pdf\u001b[39m\u001b[39m\\x94\u001b[39;00m\u001b[39m\\x8c\u001b[39;00m\u001b[39m\"\u001b[39m\u001b[39mimages/utsira-nord-std-wind-1H.pdf\u001b[39m\u001b[39m\\x94\u001b[39;00m\u001b[39m\\x8c\u001b[39;00m\u001b[39m0images/scatter-soerlige-nordsjoe-ii-nordmela.pdf\u001b[39m\u001b[39m\\x94\u001b[39;00m\u001b[39m\\x8c\u001b[39;00m\u001b[39m/images/scatter-soerlige-nordsjoe-ii-de-west.pdf\u001b[39m\u001b[39m\\x94\u001b[39;00m\u001b[39m\\x8c\u001b[39;00m\u001b[39m\\x1b\u001b[39;00m\u001b[39mimages/corr-matrix-1day.pdf\u001b[39m\u001b[39m\\x94\u001b[39;00m\u001b[39m\\x8c\u001b[39;00m\u001b[39m&images/corr-matrix-1day-aggregated.pdf\u001b[39m\u001b[39m\\x94\u001b[39;00m\u001b[39m\\x8c\u001b[39;00m\u001b[39m3images/changes-wind-output-sorelige-nordsjoe-ii.pdf\u001b[39m\u001b[39m\\x94\u001b[39;00m\u001b[39me}\u001b[39m\u001b[39m\\x94\u001b[39;00m\u001b[39m(h\u001b[39m\u001b[39m\\x12\u001b[39;00m\u001b[39m}\u001b[39m\u001b[39m\\x94\u001b[39;00m\u001b[39mh\u001b[39m\u001b[39m\\x1c\u001b[39;00m\u001b[39m]\u001b[39m\u001b[39m\\x94\u001b[39;00m\u001b[39m(h\u001b[39m\u001b[39m\\x1e\u001b[39;00m\u001b[39mh\u001b[39m\u001b[39m\\x1f\u001b[39;00m\u001b[39meh\u001b[39m\u001b[39m\\x1e\u001b[39;00m\u001b[39mh\u001b[39m\u001b[39m\"\u001b[39m\u001b[39mh$\u001b[39m\u001b[39m\\x85\u001b[39;00m\u001b[39m\\x94\u001b[39;00m\u001b[39mR\u001b[39m\u001b[39m\\x94\u001b[39;00m\u001b[39m(h$)}\u001b[39m\u001b[39m\\x94\u001b[39;00m\u001b[39mh(h\u001b[39m\u001b[39m\\x1e\u001b[39;00m\u001b[39msNt\u001b[39m\u001b[39m\\x94\u001b[39;00m\u001b[39mbh\u001b[39m\u001b[39m\\x1f\u001b[39;00m\u001b[39mh\u001b[39m\u001b[39m\"\u001b[39m\u001b[39mh$\u001b[39m\u001b[39m\\x85\u001b[39;00m\u001b[39m\\x94\u001b[39;00m\u001b[39mR\u001b[39m\u001b[39m\\x94\u001b[39;00m\u001b[39m(h$)}\u001b[39m\u001b[39m\\x94\u001b[39;00m\u001b[39mh(h\u001b[39m\u001b[39m\\x1f\u001b[39;00m\u001b[39msNt\u001b[39m\u001b[39m\\x94\u001b[39;00m\u001b[39mbub\u001b[39m\u001b[39m\\x8c\u001b[39;00m\u001b[39m\\x06\u001b[39;00m\u001b[39mparams\u001b[39m\u001b[39m\\x94\u001b[39;00m\u001b[39mh\u001b[39m\u001b[39m\\x06\u001b[39;00m\u001b[39m\\x8c\u001b[39;00m\u001b[39m\\x06\u001b[39;00m\u001b[39mParams\u001b[39m\u001b[39m\\x94\u001b[39;00m\u001b[39m\\x93\u001b[39;00m\u001b[39m\\x94\u001b[39;00m\u001b[39m)\u001b[39m\u001b[39m\\x81\u001b[39;00m\u001b[39m\\x94\u001b[39;00m\u001b[39m}\u001b[39m\u001b[39m\\x94\u001b[39;00m\u001b[39m(h\u001b[39m\u001b[39m\\x12\u001b[39;00m\u001b[39m}\u001b[39m\u001b[39m\\x94\u001b[39;00m\u001b[39mh\u001b[39m\u001b[39m\\x1c\u001b[39;00m\u001b[39m]\u001b[39m\u001b[39m\\x94\u001b[39;00m\u001b[39m(h\u001b[39m\u001b[39m\\x1e\u001b[39;00m\u001b[39mh\u001b[39m\u001b[39m\\x1f\u001b[39;00m\u001b[39meh\u001b[39m\u001b[39m\\x1e\u001b[39;00m\u001b[39mh\u001b[39m\u001b[39m\"\u001b[39m\u001b[39mh$\u001b[39m\u001b[39m\\x85\u001b[39;00m\u001b[39m\\x94\u001b[39;00m\u001b[39mR\u001b[39m\u001b[39m\\x94\u001b[39;00m\u001b[39m(h$)}\u001b[39m\u001b[39m\\x94\u001b[39;00m\u001b[39mh(h\u001b[39m\u001b[39m\\x1e\u001b[39;00m\u001b[39msNt\u001b[39m\u001b[39m\\x94\u001b[39;00m\u001b[39mbh\u001b[39m\u001b[39m\\x1f\u001b[39;00m\u001b[39mh\u001b[39m\u001b[39m\"\u001b[39m\u001b[39mh$\u001b[39m\u001b[39m\\x85\u001b[39;00m\u001b[39m\\x94\u001b[39;00m\u001b[39mR\u001b[39m\u001b[39m\\x94\u001b[39;00m\u001b[39m(h$)}\u001b[39m\u001b[39m\\x94\u001b[39;00m\u001b[39mh(h\u001b[39m\u001b[39m\\x1f\u001b[39;00m\u001b[39msNt\u001b[39m\u001b[39m\\x94\u001b[39;00m\u001b[39mbub\u001b[39m\u001b[39m\\x8c\u001b[39;00m\u001b[39m\\t\u001b[39;00m\u001b[39mwildcards\u001b[39m\u001b[39m\\x94\u001b[39;00m\u001b[39mh\u001b[39m\u001b[39m\\x06\u001b[39;00m\u001b[39m\\x8c\u001b[39;00m\u001b[39m\\t\u001b[39;00m\u001b[39mWildcards\u001b[39m\u001b[39m\\x94\u001b[39;00m\u001b[39m\\x93\u001b[39;00m\u001b[39m\\x94\u001b[39;00m\u001b[39m)\u001b[39m\u001b[39m\\x81\u001b[39;00m\u001b[39m\\x94\u001b[39;00m\u001b[39m}\u001b[39m\u001b[39m\\x94\u001b[39;00m\u001b[39m(h\u001b[39m\u001b[39m\\x12\u001b[39;00m\u001b[39m}\u001b[39m\u001b[39m\\x94\u001b[39;00m\u001b[39mh\u001b[39m\u001b[39m\\x1c\u001b[39;00m\u001b[39m]\u001b[39m\u001b[39m\\x94\u001b[39;00m\u001b[39m(h\u001b[39m\u001b[39m\\x1e\u001b[39;00m\u001b[39mh\u001b[39m\u001b[39m\\x1f\u001b[39;00m\u001b[39meh\u001b[39m\u001b[39m\\x1e\u001b[39;00m\u001b[39mh\u001b[39m\u001b[39m\"\u001b[39m\u001b[39mh$\u001b[39m\u001b[39m\\x85\u001b[39;00m\u001b[39m\\x94\u001b[39;00m\u001b[39mR\u001b[39m\u001b[39m\\x94\u001b[39;00m\u001b[39m(h$)}\u001b[39m\u001b[39m\\x94\u001b[39;00m\u001b[39mh(h\u001b[39m\u001b[39m\\x1e\u001b[39;00m\u001b[39msNt\u001b[39m\u001b[39m\\x94\u001b[39;00m\u001b[39mbh\u001b[39m\u001b[39m\\x1f\u001b[39;00m\u001b[39mh\u001b[39m\u001b[39m\"\u001b[39m\u001b[39mh$\u001b[39m\u001b[39m\\x85\u001b[39;00m\u001b[39m\\x94\u001b[39;00m\u001b[39mR\u001b[39m\u001b[39m\\x94\u001b[39;00m\u001b[39m(h$)}\u001b[39m\u001b[39m\\x94\u001b[39;00m\u001b[39mh(h\u001b[39m\u001b[39m\\x1f\u001b[39;00m\u001b[39msNt\u001b[39m\u001b[39m\\x94\u001b[39;00m\u001b[39mbub\u001b[39m\u001b[39m\\x8c\u001b[39;00m\u001b[39m\\x07\u001b[39;00m\u001b[39mthreads\u001b[39m\u001b[39m\\x94\u001b[39;00m\u001b[39mK\u001b[39m\u001b[39m\\x01\u001b[39;00m\u001b[39m\\x8c\u001b[39;00m\u001b[39m\\t\u001b[39;00m\u001b[39mresources\u001b[39m\u001b[39m\\x94\u001b[39;00m\u001b[39mh\u001b[39m\u001b[39m\\x06\u001b[39;00m\u001b[39m\\x8c\u001b[39;00m\u001b[39m\\t\u001b[39;00m\u001b[39mResources\u001b[39m\u001b[39m\\x94\u001b[39;00m\u001b[39m\\x93\u001b[39;00m\u001b[39m\\x94\u001b[39;00m\u001b[39m)\u001b[39m\u001b[39m\\x81\u001b[39;00m\u001b[39m\\x94\u001b[39;00m\u001b[39m(K\u001b[39m\u001b[39m\\x01\u001b[39;00m\u001b[39mK\u001b[39m\u001b[39m\\x01\u001b[39;00m\u001b[39m\\x8c\u001b[39;00m\u001b[39m0/var/folders/_c/vsl_fz_n62q_dg7lz4v2lb180000gn/T\u001b[39m\u001b[39m\\x94\u001b[39;00m\u001b[39me}\u001b[39m\u001b[39m\\x94\u001b[39;00m\u001b[39m(h\u001b[39m\u001b[39m\\x12\u001b[39;00m\u001b[39m}\u001b[39m\u001b[39m\\x94\u001b[39;00m\u001b[39m(\u001b[39m\u001b[39m\\x8c\u001b[39;00m\u001b[39m\\x06\u001b[39;00m\u001b[39m_cores\u001b[39m\u001b[39m\\x94\u001b[39;00m\u001b[39mK\u001b[39m\u001b[39m\\x00\u001b[39;00m\u001b[39mN\u001b[39m\u001b[39m\\x86\u001b[39;00m\u001b[39m\\x94\u001b[39;00m\u001b[39m\\x8c\u001b[39;00m\u001b[39m\\x06\u001b[39;00m\u001b[39m_nodes\u001b[39m\u001b[39m\\x94\u001b[39;00m\u001b[39mK\u001b[39m\u001b[39m\\x01\u001b[39;00m\u001b[39mN\u001b[39m\u001b[39m\\x86\u001b[39;00m\u001b[39m\\x94\u001b[39;00m\u001b[39m\\x8c\u001b[39;00m\u001b[39m\\x06\u001b[39;00m\u001b[39mtmpdir\u001b[39m\u001b[39m\\x94\u001b[39;00m\u001b[39mK\u001b[39m\u001b[39m\\x02\u001b[39;00m\u001b[39mN\u001b[39m\u001b[39m\\x86\u001b[39;00m\u001b[39m\\x94\u001b[39;00m\u001b[39muh\u001b[39m\u001b[39m\\x1c\u001b[39;00m\u001b[39m]\u001b[39m\u001b[39m\\x94\u001b[39;00m\u001b[39m(h\u001b[39m\u001b[39m\\x1e\u001b[39;00m\u001b[39mh\u001b[39m\u001b[39m\\x1f\u001b[39;00m\u001b[39meh\u001b[39m\u001b[39m\\x1e\u001b[39;00m\u001b[39mh\u001b[39m\u001b[39m\"\u001b[39m\u001b[39mh$\u001b[39m\u001b[39m\\x85\u001b[39;00m\u001b[39m\\x94\u001b[39;00m\u001b[39mR\u001b[39m\u001b[39m\\x94\u001b[39;00m\u001b[39m(h$)}\u001b[39m\u001b[39m\\x94\u001b[39;00m\u001b[39mh(h\u001b[39m\u001b[39m\\x1e\u001b[39;00m\u001b[39msNt\u001b[39m\u001b[39m\\x94\u001b[39;00m\u001b[39mbh\u001b[39m\u001b[39m\\x1f\u001b[39;00m\u001b[39mh\u001b[39m\u001b[39m\"\u001b[39m\u001b[39mh$\u001b[39m\u001b[39m\\x85\u001b[39;00m\u001b[39m\\x94\u001b[39;00m\u001b[39mR\u001b[39m\u001b[39m\\x94\u001b[39;00m\u001b[39m(h$)}\u001b[39m\u001b[39m\\x94\u001b[39;00m\u001b[39mh(h\u001b[39m\u001b[39m\\x1f\u001b[39;00m\u001b[39msNt\u001b[39m\u001b[39m\\x94\u001b[39;00m\u001b[39mbh\u001b[39m\u001b[39m{\u001b[39m\u001b[39mK\u001b[39m\u001b[39m\\x01\u001b[39;00m\u001b[39mh}K\u001b[39m\u001b[39m\\x01\u001b[39;00m\u001b[39mh\u001b[39m\u001b[39m\\x7f\u001b[39;00m\u001b[39mhxub\u001b[39m\u001b[39m\\x8c\u001b[39;00m\u001b[39m\\x03\u001b[39;00m\u001b[39mlog\u001b[39m\u001b[39m\\x94\u001b[39;00m\u001b[39mh\u001b[39m\u001b[39m\\x06\u001b[39;00m\u001b[39m\\x8c\u001b[39;00m\u001b[39m\\x03\u001b[39;00m\u001b[39mLog\u001b[39m\u001b[39m\\x94\u001b[39;00m\u001b[39m\\x93\u001b[39;00m\u001b[39m\\x94\u001b[39;00m\u001b[39m)\u001b[39m\u001b[39m\\x81\u001b[39;00m\u001b[39m\\x94\u001b[39;00m\u001b[39m\\x8c\u001b[39;00m\u001b[39m\\x1e\u001b[39;00m\u001b[39mlogs/run_analysis_notebook.log\u001b[39m\u001b[39m\\x94\u001b[39;00m\u001b[39ma}\u001b[39m\u001b[39m\\x94\u001b[39;00m\u001b[39m(h\u001b[39m\u001b[39m\\x12\u001b[39;00m\u001b[39m}\u001b[39m\u001b[39m\\x94\u001b[39;00m\u001b[39mh\u001b[39m\u001b[39m\\x1c\u001b[39;00m\u001b[39m]\u001b[39m\u001b[39m\\x94\u001b[39;00m\u001b[39m(h\u001b[39m\u001b[39m\\x1e\u001b[39;00m\u001b[39mh\u001b[39m\u001b[39m\\x1f\u001b[39;00m\u001b[39meh\u001b[39m\u001b[39m\\x1e\u001b[39;00m\u001b[39mh\u001b[39m\u001b[39m\"\u001b[39m\u001b[39mh$\u001b[39m\u001b[39m\\x85\u001b[39;00m\u001b[39m\\x94\u001b[39;00m\u001b[39mR\u001b[39m\u001b[39m\\x94\u001b[39;00m\u001b[39m(h$)}\u001b[39m\u001b[39m\\x94\u001b[39;00m\u001b[39mh(h\u001b[39m\u001b[39m\\x1e\u001b[39;00m\u001b[39msNt\u001b[39m\u001b[39m\\x94\u001b[39;00m\u001b[39mbh\u001b[39m\u001b[39m\\x1f\u001b[39;00m\u001b[39mh\u001b[39m\u001b[39m\"\u001b[39m\u001b[39mh$\u001b[39m\u001b[39m\\x85\u001b[39;00m\u001b[39m\\x94\u001b[39;00m\u001b[39mR\u001b[39m\u001b[39m\\x94\u001b[39;00m\u001b[39m(h$)}\u001b[39m\u001b[39m\\x94\u001b[39;00m\u001b[39mh(h\u001b[39m\u001b[39m\\x1f\u001b[39;00m\u001b[39msNt\u001b[39m\u001b[39m\\x94\u001b[39;00m\u001b[39mbub\u001b[39m\u001b[39m\\x8c\u001b[39;00m\u001b[39m\\x06\u001b[39;00m\u001b[39mconfig\u001b[39m\u001b[39m\\x94\u001b[39;00m\u001b[39m}\u001b[39m\u001b[39m\\x94\u001b[39;00m\u001b[39m\\x8c\u001b[39;00m\u001b[39m\\x04\u001b[39;00m\u001b[39mrule\u001b[39m\u001b[39m\\x94\u001b[39;00m\u001b[39m\\x8c\u001b[39;00m\u001b[39m\\x15\u001b[39;00m\u001b[39mrun_analysis_notebook\u001b[39m\u001b[39m\\x94\u001b[39;00m\u001b[39m\\x8c\u001b[39;00m\u001b[39m\\x0f\u001b[39;00m\u001b[39mbench_iteration\u001b[39m\u001b[39m\\x94\u001b[39;00m\u001b[39mN\u001b[39m\u001b[39m\\x8c\u001b[39;00m\u001b[39m\\t\u001b[39;00m\u001b[39mscriptdir\u001b[39m\u001b[39m\\x94\u001b[39;00m\u001b[39m\\x8c\u001b[39;00m\u001b[39m//Users/mah/gitsource/wind-covariation/notebooks\u001b[39m\u001b[39m\\x94\u001b[39;00m\u001b[39mub.\u001b[39m\u001b[39m'\u001b[39m); \u001b[39mfrom\u001b[39;00m \u001b[39msnakemake\u001b[39;00m\u001b[39m.\u001b[39;00m\u001b[39mlogging\u001b[39;00m \u001b[39mimport\u001b[39;00m logger; logger\u001b[39m.\u001b[39mprintshellcmds \u001b[39m=\u001b[39m \u001b[39mFalse\u001b[39;00m; \u001b[39mimport\u001b[39;00m \u001b[39mos\u001b[39;00m; os\u001b[39m.\u001b[39mchdir(\u001b[39mr\u001b[39m\u001b[39m'\u001b[39m\u001b[39m/Users/mah/gitsource/wind-covariation\u001b[39m\u001b[39m'\u001b[39m);\n\u001b[1;32m      3\u001b[0m \u001b[39m######## snakemake preamble end #########\u001b[39;00m\n",
      "\u001b[0;31mFileNotFoundError\u001b[0m: [Errno 2] No such file or directory: '/Users/mah/gitsource/wind-covariation'"
     ]
    }
   ],
   "source": [
    "\n",
    "######## snakemake preamble start (automatically inserted, do not edit) ########\n",
    "import sys; sys.path.extend(['/Users/mah/Library/Caches/pypoetry/virtualenvs/wind-covariation-5bQZunuM-py3.11/lib/python3.11/site-packages', '/Users/mah/Library/Caches/snakemake/snakemake/source-cache/runtime-cache/tmpw6qbe1t9/file/Users/mah/gitsource/wind-covariation/notebooks', '/Users/mah/gitsource/wind-covariation/notebooks']); import pickle; snakemake = pickle.loads(b'\\x80\\x04\\x95z\\x07\\x00\\x00\\x00\\x00\\x00\\x00\\x8c\\x10snakemake.script\\x94\\x8c\\tSnakemake\\x94\\x93\\x94)\\x81\\x94}\\x94(\\x8c\\x05input\\x94\\x8c\\x0csnakemake.io\\x94\\x8c\\nInputFiles\\x94\\x93\\x94)\\x81\\x94(\\x8c data/offshore_wind_locations.csv\\x94\\x8c data/nve_offshore_wind_areas.csv\\x94\\x8c\\x1cdata/processed/wind_data.csv\\x94\\x8c5data/processed/augmented_lagrangian/alp_0.5/model.pkl\\x94\\x8c5data/processed/augmented_lagrangian/alp_0.3/model.pkl\\x94\\x8c5data/processed/augmented_lagrangian/alp_0.1/model.pkl\\x94\\x8c5data/processed/augmented_lagrangian/alp_0.0/model.pkl\\x94e}\\x94(\\x8c\\x06_names\\x94}\\x94(\\x8c\\tlocations\\x94K\\x00N\\x86\\x94\\x8c\\rnve_locations\\x94K\\x01N\\x86\\x94\\x8c\\x08combined\\x94K\\x02N\\x86\\x94\\x8c\\x06models\\x94K\\x03K\\x07\\x86\\x94u\\x8c\\x12_allowed_overrides\\x94]\\x94(\\x8c\\x05index\\x94\\x8c\\x04sort\\x94eh\\x1e\\x8c\\tfunctools\\x94\\x8c\\x07partial\\x94\\x93\\x94h\\x06\\x8c\\x19Namedlist._used_attribute\\x94\\x93\\x94\\x85\\x94R\\x94(h$)}\\x94\\x8c\\x05_name\\x94h\\x1esNt\\x94bh\\x1fh\"h$\\x85\\x94R\\x94(h$)}\\x94h(h\\x1fsNt\\x94bh\\x14h\\nh\\x16h\\x0bh\\x18h\\x0ch\\x1ah\\x06\\x8c\\tNamedlist\\x94\\x93\\x94)\\x81\\x94(h\\rh\\x0eh\\x0fh\\x10e}\\x94(h\\x12}\\x94h\\x1c]\\x94(h\\x1eh\\x1feh\\x1eh\"h$\\x85\\x94R\\x94(h$)}\\x94h(h\\x1esNt\\x94bh\\x1fh\"h$\\x85\\x94R\\x94(h$)}\\x94h(h\\x1fsNt\\x94bubub\\x8c\\x06output\\x94h\\x06\\x8c\\x0bOutputFiles\\x94\\x93\\x94)\\x81\\x94(\\x8c\\x18images/corr-distance.pdf\\x94\\x8c\\x1cimages/shift-quantile0.9.pdf\\x94\\x8c\\x1fimages/shift-quantile0.9999.pdf\\x94\\x8c\"images/utsira-nord-std-wind-7D.pdf\\x94\\x8c\"images/utsira-nord-std-wind-1H.pdf\\x94\\x8c0images/scatter-soerlige-nordsjoe-ii-nordmela.pdf\\x94\\x8c/images/scatter-soerlige-nordsjoe-ii-de-west.pdf\\x94\\x8c\\x1bimages/corr-matrix-1day.pdf\\x94\\x8c&images/corr-matrix-1day-aggregated.pdf\\x94\\x8c3images/changes-wind-output-sorelige-nordsjoe-ii.pdf\\x94e}\\x94(h\\x12}\\x94h\\x1c]\\x94(h\\x1eh\\x1feh\\x1eh\"h$\\x85\\x94R\\x94(h$)}\\x94h(h\\x1esNt\\x94bh\\x1fh\"h$\\x85\\x94R\\x94(h$)}\\x94h(h\\x1fsNt\\x94bub\\x8c\\x06params\\x94h\\x06\\x8c\\x06Params\\x94\\x93\\x94)\\x81\\x94}\\x94(h\\x12}\\x94h\\x1c]\\x94(h\\x1eh\\x1feh\\x1eh\"h$\\x85\\x94R\\x94(h$)}\\x94h(h\\x1esNt\\x94bh\\x1fh\"h$\\x85\\x94R\\x94(h$)}\\x94h(h\\x1fsNt\\x94bub\\x8c\\twildcards\\x94h\\x06\\x8c\\tWildcards\\x94\\x93\\x94)\\x81\\x94}\\x94(h\\x12}\\x94h\\x1c]\\x94(h\\x1eh\\x1feh\\x1eh\"h$\\x85\\x94R\\x94(h$)}\\x94h(h\\x1esNt\\x94bh\\x1fh\"h$\\x85\\x94R\\x94(h$)}\\x94h(h\\x1fsNt\\x94bub\\x8c\\x07threads\\x94K\\x01\\x8c\\tresources\\x94h\\x06\\x8c\\tResources\\x94\\x93\\x94)\\x81\\x94(K\\x01K\\x01\\x8c0/var/folders/_c/vsl_fz_n62q_dg7lz4v2lb180000gn/T\\x94e}\\x94(h\\x12}\\x94(\\x8c\\x06_cores\\x94K\\x00N\\x86\\x94\\x8c\\x06_nodes\\x94K\\x01N\\x86\\x94\\x8c\\x06tmpdir\\x94K\\x02N\\x86\\x94uh\\x1c]\\x94(h\\x1eh\\x1feh\\x1eh\"h$\\x85\\x94R\\x94(h$)}\\x94h(h\\x1esNt\\x94bh\\x1fh\"h$\\x85\\x94R\\x94(h$)}\\x94h(h\\x1fsNt\\x94bh{K\\x01h}K\\x01h\\x7fhxub\\x8c\\x03log\\x94h\\x06\\x8c\\x03Log\\x94\\x93\\x94)\\x81\\x94\\x8c\\x1elogs/run_analysis_notebook.log\\x94a}\\x94(h\\x12}\\x94h\\x1c]\\x94(h\\x1eh\\x1feh\\x1eh\"h$\\x85\\x94R\\x94(h$)}\\x94h(h\\x1esNt\\x94bh\\x1fh\"h$\\x85\\x94R\\x94(h$)}\\x94h(h\\x1fsNt\\x94bub\\x8c\\x06config\\x94}\\x94\\x8c\\x04rule\\x94\\x8c\\x15run_analysis_notebook\\x94\\x8c\\x0fbench_iteration\\x94N\\x8c\\tscriptdir\\x94\\x8c//Users/mah/gitsource/wind-covariation/notebooks\\x94ub.'); from snakemake.logging import logger; logger.printshellcmds = False; import os; os.chdir(r'/Users/mah/gitsource/wind-covariation');\n",
    "######## snakemake preamble end #########\n"
   ]
  },
  {
   "cell_type": "code",
   "execution_count": null,
   "id": "440557bc",
   "metadata": {},
   "outputs": [],
   "source": [
    "%load_ext autoreload\n",
    "%autoreload 2"
   ]
  },
  {
   "attachments": {},
   "cell_type": "markdown",
   "id": "433f2dd8",
   "metadata": {},
   "source": [
    "# Imports"
   ]
  },
  {
   "cell_type": "code",
   "execution_count": null,
   "id": "6870104a",
   "metadata": {},
   "outputs": [],
   "source": [
    "# start coding here\n",
    "import os\n",
    "import sys\n",
    "import argparse\n",
    "from pathlib import Path\n",
    "\n",
    "import numpy as np\n",
    "import pandas as pd\n",
    "import plotly.express as px\n",
    "import seaborn as sns\n",
    "\n",
    "sys.path.insert(1, os.path.join(sys.path[0], \"..\"))\n",
    "from Wind.analyze import (\n",
    "    get_corr_figure,\n",
    "    get_hours_shift_figure,\n",
    "    get_mean_std_wind_figure,\n",
    "    get_corr_distance_figure,\n",
    "    get_line_plot_with_mean,\n",
    "    get_histogram_2d_figure,\n",
    "    get_scatter_2d_figure,\n",
    "    get_scatter_with_kernel_density_2d_figure,\n",
    "    get_scatter_density_2d_figure,\n",
    "    get_multiple_corr_distance_figure\n",
    ")\n"
   ]
  },
  {
   "cell_type": "code",
   "execution_count": null,
   "id": "76015d12",
   "metadata": {},
   "outputs": [],
   "source": [
    "import plotly.io as pio"
   ]
  },
  {
   "attachments": {},
   "cell_type": "markdown",
   "id": "8415cd05",
   "metadata": {},
   "source": [
    "# Snakemake inputs"
   ]
  },
  {
   "cell_type": "code",
   "execution_count": null,
   "id": "808b1b3a",
   "metadata": {},
   "outputs": [],
   "source": [
    "wind_locations_file = Path(snakemake.input[0])\n",
    "wind_nve_locations_file = Path(snakemake.input[1])\n",
    "wind_data_file = Path(snakemake.input[2])"
   ]
  },
  {
   "attachments": {},
   "cell_type": "markdown",
   "id": "36cc5299",
   "metadata": {},
   "source": [
    "\n",
    "# Read data"
   ]
  },
  {
   "cell_type": "code",
   "execution_count": null,
   "id": "952375e0",
   "metadata": {},
   "outputs": [],
   "source": [
    "df_wind_locations = pd.read_csv(wind_locations_file)\n",
    "df_nve_wind_locations = pd.read_csv(wind_nve_locations_file, index_col=0)\n",
    "df_nve_wind_locations = df_nve_wind_locations.sort_values(by=\"lat\")  # Sort by south to north\n",
    "\n",
    "df_locations = pd.concat([df_wind_locations, df_nve_wind_locations], axis=0)\n",
    "df_locations = df_locations.reset_index(drop=True)\n",
    "df_locations = df_locations.sort_values(by=\"lat\")  # Sort by south to north\n",
    "\n",
    "df = pd.read_csv(wind_data_file, index_col=0)\n",
    "df.index = pd.to_datetime(df.index)"
   ]
  },
  {
   "cell_type": "code",
   "execution_count": null,
   "id": "36713235",
   "metadata": {},
   "outputs": [],
   "source": [
    "df.head()"
   ]
  },
  {
   "cell_type": "code",
   "execution_count": null,
   "id": "3df0978b",
   "metadata": {},
   "outputs": [],
   "source": [
    "df_locations.head()"
   ]
  },
  {
   "cell_type": "code",
   "execution_count": null,
   "id": "a098e5bc",
   "metadata": {},
   "outputs": [],
   "source": [
    "df_nve_wind_locations.head()"
   ]
  },
  {
   "cell_type": "code",
   "execution_count": null,
   "id": "3b2938c9",
   "metadata": {},
   "outputs": [],
   "source": [
    "# Plot locations on map\n",
    "fig = px.scatter_mapbox(\n",
    "    df_locations,\n",
    "    lat=\"lat\",\n",
    "    lon=\"lon\",\n",
    "    color=\"location\",\n",
    "    zoom=3,\n",
    "    size_max=10,\n",
    "    height=600,\n",
    "    size=[3 for _ in df_locations.iterrows()],\n",
    ")\n",
    "fig.update_layout(mapbox_style=\"open-street-map\", )\n",
    "fig.update_layout(margin={\"r\": 0, \"t\": 0, \"l\": 0, \"b\": 0})\n",
    "fig.show(config=dict(editable=True))"
   ]
  },
  {
   "cell_type": "code",
   "execution_count": null,
   "id": "b6b02235",
   "metadata": {},
   "outputs": [],
   "source": [
    "\n",
    "df_mean_wind_nve = df[df_nve_wind_locations[\"location\"]].mean()\n",
    "# df_mean_wind_nve.to_csv(\"data/mean_wind.csv\")\n",
    "fig = px.bar(df_mean_wind_nve, text_auto=\".2\", title=\"\")\n",
    "fig.update_traces(textfont_size=12, textangle=0, textposition=\"inside\", cliponaxis=False)\n",
    "fig.update_layout(\n",
    "    xaxis_title=\"Wind farm\", yaxis_title=\"Mean wind power output\", showlegend=False, template=\"plotly_white\", width=1000\n",
    ")\n",
    "fig.show()\n"
   ]
  },
  {
   "cell_type": "code",
   "execution_count": null,
   "id": "10583b70",
   "metadata": {},
   "outputs": [],
   "source": [
    "\n",
    "# Plot correlation\n",
    "fig = get_corr_figure(df.resample('1D').mean())\n",
    "fig.show()\n",
    "fig.write_image(\"images/corr-matrix-1day.pdf\")"
   ]
  },
  {
   "cell_type": "code",
   "execution_count": null,
   "id": "c4faf32f",
   "metadata": {},
   "outputs": [],
   "source": [
    "froya_lat = df_nve_wind_locations[df_nve_wind_locations[\"location\"] == \"Frøyabanken\"][\"lat\"].values[0]\n",
    "\n",
    "cols_south = df_nve_wind_locations[df_nve_wind_locations[\"lat\"] < froya_lat][\"location\"].to_list()\n",
    "cols_north = df_nve_wind_locations[df_nve_wind_locations[\"lat\"] >= froya_lat][\"location\"].to_list()\n",
    "nl_cols = [i for i in df.columns if \"NL\" in i]\n",
    "uk_cols = [i for i in df.columns if \"UK\" in i]\n",
    "de_cols = [i for i in df.columns if \"DE\" in i]\n",
    "dk_cols = [i for i in df.columns if \"DK\" in i]\n",
    "\n",
    "df_agg = pd.DataFrame({\n",
    "    \n",
    "    \"Farms north of Stadt\": df[cols_north].mean(axis=1),\n",
    "    \"All 15 wind farms\": df.mean(axis=1),\n",
    "    \"Farms south of Stadt\": df[cols_south].mean(axis=1),\n",
    "    \"DK\": df[dk_cols].mean(axis=1),\n",
    "    \"UK\": df[uk_cols].mean(axis=1),\n",
    "    \"DE\": df[de_cols].mean(axis=1),\n",
    "    \"NL\": df[nl_cols].mean(axis=1)\n",
    "}, index = df.index)\n",
    "\n",
    "fig = get_corr_figure(df_agg.resample('1D').mean(), scale_size=1/2.5)\n",
    "fig.show()\n",
    "fig.write_image(\"images/corr-matrix-1day-aggregated.pdf\")"
   ]
  },
  {
   "cell_type": "code",
   "execution_count": null,
   "id": "7cf4ed2a",
   "metadata": {},
   "outputs": [],
   "source": [
    "resolutions = ['1H', '1D', '7D', '30D']\n",
    "colors = [\"red\", \"black\", \"green\", \"blue\"]\n",
    "fig = get_multiple_corr_distance_figure(df, df_locations, resolutions=resolutions, colors=colors)\n",
    "fig.show()\n",
    "fig.write_image(\"images/corr-distance.pdf\")"
   ]
  },
  {
   "cell_type": "code",
   "execution_count": null,
   "id": "4ef45dcc",
   "metadata": {},
   "outputs": [],
   "source": [
    "fig = get_corr_distance_figure(df, df_locations)\n",
    "fig.show()"
   ]
  },
  {
   "cell_type": "code",
   "execution_count": null,
   "id": "eb0ef40e",
   "metadata": {},
   "outputs": [],
   "source": [
    "\n",
    "# Plot short-term variation\n",
    "n_shifts = 25\n",
    "quantile = 0.9\n",
    "\n",
    "fig = get_hours_shift_figure(df, df_nve_wind_locations, n_shifts, quantile)\n",
    "fig.update_layout(width=900)\n",
    "fig.show()\n",
    "fig.write_image(\"images/shift-quantile0.9.pdf\")"
   ]
  },
  {
   "cell_type": "code",
   "execution_count": null,
   "id": "e0615373",
   "metadata": {},
   "outputs": [],
   "source": [
    "\n",
    "fig = get_hours_shift_figure(df, df_nve_wind_locations, n_shifts, quantile=0.9999)\n",
    "fig.update_layout(width=900)\n",
    "fig.show()\n",
    "fig.write_image(\"images/shift-quantile0.9999.pdf\")"
   ]
  },
  {
   "cell_type": "code",
   "execution_count": null,
   "id": "ddd5a584",
   "metadata": {},
   "outputs": [],
   "source": [
    "\n",
    "# fig = px.area(df.resample(\"1D\").mean())\n",
    "# fig.show()"
   ]
  },
  {
   "cell_type": "code",
   "execution_count": null,
   "id": "fed425f7",
   "metadata": {},
   "outputs": [],
   "source": [
    "resample_period = \"7D\"\n",
    "fig = get_mean_std_wind_figure(df, resample_period)\n",
    "fig.show()"
   ]
  },
  {
   "cell_type": "code",
   "execution_count": null,
   "id": "631ad54b",
   "metadata": {},
   "outputs": [],
   "source": [
    "df[\"BE\"].sort_values().plot()\n",
    "vals = df[\"BE\"].values\n",
    "x = np.linspace(0, 1, len(vals))\n",
    "px.line(x=x, y=np.sort(vals))"
   ]
  },
  {
   "cell_type": "code",
   "execution_count": null,
   "id": "832ac356",
   "metadata": {},
   "outputs": [],
   "source": [
    "\n",
    "px.line(df[\"BE\"].sample(10000).sort_values().values)"
   ]
  },
  {
   "cell_type": "code",
   "execution_count": null,
   "id": "47a80df3",
   "metadata": {},
   "outputs": [],
   "source": [
    "\n",
    "### Line plots\n",
    "area = \"Utsira nord\"\n",
    "resample_period = \"7D\"\n",
    "fig = get_line_plot_with_mean(df, area, resample_period)\n",
    "fig.show()\n",
    "fig.write_image(\"images/utsira-nord-std-wind-7D.pdf\")"
   ]
  },
  {
   "cell_type": "code",
   "execution_count": null,
   "id": "957f38d8",
   "metadata": {},
   "outputs": [],
   "source": [
    "resample_period = \"1H\"\n",
    "fig = get_line_plot_with_mean(df, area, resample_period)\n",
    "fig.show()\n",
    "fig.write_image(\"images/utsira-nord-std-wind-1H.pdf\")"
   ]
  },
  {
   "cell_type": "code",
   "execution_count": null,
   "id": "518e43a0",
   "metadata": {},
   "outputs": [],
   "source": [
    "# resample_period = \"1H\"\n",
    "# fig = get_mean_std_wind_yearly_figure(df, resample_period)"
   ]
  },
  {
   "cell_type": "code",
   "execution_count": null,
   "id": "8df41e19",
   "metadata": {},
   "outputs": [],
   "source": [
    "## Scatter plots\n",
    "df.columns\n",
    "area_a = \"Sørlige Nordsjø II\"  # \"Utsira nord\"\n",
    "area_b = \"DE West\"  # \"Auvær\"\n",
    "\n",
    "fig = get_scatter_2d_figure(df.sample(10000), area_a, area_b)\n",
    "fig.show()"
   ]
  },
  {
   "cell_type": "code",
   "execution_count": null,
   "id": "0e407d83",
   "metadata": {},
   "outputs": [],
   "source": [
    "\n",
    "fig = get_histogram_2d_figure(df, area_a, area_b)\n",
    "fig.show()"
   ]
  },
  {
   "cell_type": "code",
   "execution_count": null,
   "id": "96bcdca7",
   "metadata": {},
   "outputs": [],
   "source": [
    "\n",
    "## Kernel density plots\n",
    "N = 50\n",
    "fig = get_scatter_with_kernel_density_2d_figure(\n",
    "    df, area_a, area_b, N, z_max=4, n_scatter_samples=500, bandwidth=0.1, rtol=0.01, kernel=\"epanechnikov\"\n",
    ")\n",
    "fig.show()"
   ]
  },
  {
   "cell_type": "code",
   "execution_count": null,
   "id": "1b237c10",
   "metadata": {},
   "outputs": [],
   "source": [
    "\n",
    "fig = get_scatter_with_kernel_density_2d_figure(\n",
    "    df, area_a, area_b, N, z_max=3, n_scatter_samples=0, bandwidth=0.1, rtol=0.01, kernel=\"gaussian\"\n",
    ")\n",
    "fig.show()\n",
    "fig.write_image(\"images/scatter-soerlige-nordsjoe-ii-de-west.pdf\")"
   ]
  },
  {
   "cell_type": "code",
   "execution_count": null,
   "id": "2081c228",
   "metadata": {},
   "outputs": [],
   "source": [
    "area_a = \"Sørlige Nordsjø II\"\n",
    "area_b = \"Nordmela\"  # \"Utsira nord\"\n",
    "fig = get_scatter_with_kernel_density_2d_figure(\n",
    "    df, area_a, area_b, N, z_max=3, n_scatter_samples=0, bandwidth=0.1, rtol=0.01, kernel=\"gaussian\"\n",
    ")\n",
    "fig.show()\n",
    "fig.write_image(\"images/scatter-soerlige-nordsjoe-ii-nordmela.pdf\")"
   ]
  },
  {
   "cell_type": "code",
   "execution_count": null,
   "id": "1bc51fd3",
   "metadata": {},
   "outputs": [],
   "source": [
    "\n",
    "# fig1 = get_scatter_density_2d_figure(df.sample(10000), area_a, area_b)\n",
    "# fig1.show()"
   ]
  },
  {
   "cell_type": "code",
   "execution_count": null,
   "id": "fdd20a18",
   "metadata": {},
   "outputs": [],
   "source": [
    "# %%\n",
    "import plotly.graph_objects as go\n",
    "df[\"Sum\"] = df.mean(axis=1)\n",
    "df_diff = df.diff(periods=1)\n",
    "\n",
    "data = []\n",
    "for col in [\"BE\", \"Sørlige Nordsjø II\", \"Sum\"]:\n",
    "    bins = np.arange(-0.7, 0.7, 0.001)\n",
    "    hist, bin_edges = np.histogram(df_diff[col], bins=bins, density=True)\n",
    "    data.append(go.Bar(x=bin_edges, y=hist, opacity=0.8, name=col))\n",
    "\n",
    "layout = go.Layout(\n",
    "    title_text=\"\", xaxis_title_text=\"Hourly changes of wind outputs\", yaxis_title_text=\"Probability\", barmode=\"overlay\"\n",
    ")\n",
    "\n",
    "fig = go.Figure(data=data, layout=layout)\n",
    "fig.show()\n",
    "\n"
   ]
  },
  {
   "cell_type": "code",
   "execution_count": null,
   "id": "5439d537",
   "metadata": {},
   "outputs": [],
   "source": [
    "df_diff = df.resample(\"1D\").mean().diff(periods=1)\n",
    "\n",
    "data = []\n",
    "for col in [\"BE\", \"Sørlige Nordsjø II\", \"Sum\"]:\n",
    "    bins = np.arange(-0.7, 0.7, 0.008)\n",
    "    hist, bin_edges = np.histogram(df_diff[col], bins=bins, density=True)\n",
    "    data.append(go.Bar(x=bin_edges, y=hist, opacity=0.8, name=col))\n",
    "\n",
    "layout = go.Layout(\n",
    "    title_text=\"\", xaxis_title_text=\"Daily changes of wind outputs\", yaxis_title_text=\"Probability\", barmode=\"overlay\"\n",
    ")\n",
    "\n",
    "fig = go.Figure(data=data, layout=layout)\n",
    "fig.show()"
   ]
  },
  {
   "cell_type": "code",
   "execution_count": null,
   "id": "34b0639a",
   "metadata": {},
   "outputs": [],
   "source": [
    "\n",
    "# %%\n",
    "df_diff = df.resample(\"7D\").mean().diff(periods=1)\n",
    "\n",
    "data = []\n",
    "for col in [\"BE\", \"Sørlige Nordsjø II\", \"Sum\"]:\n",
    "    bins = np.arange(-0.7, 0.7, 0.01)\n",
    "    hist, bin_edges = np.histogram(df_diff[col], bins=bins, density=True)\n",
    "    data.append(go.Bar(x=bin_edges, y=hist, opacity=0.8, name=col))\n",
    "\n",
    "layout = go.Layout(\n",
    "    title_text=\"\", xaxis_title_text=\"Weekly changes of wind outputs\", yaxis_title_text=\"Probability\", barmode=\"overlay\"\n",
    ")\n",
    "\n",
    "fig = go.Figure(data=data, layout=layout)\n",
    "fig.show()\n",
    "# %%"
   ]
  },
  {
   "cell_type": "code",
   "execution_count": null,
   "id": "b5e11daf",
   "metadata": {},
   "outputs": [],
   "source": [
    "\n",
    "from sklearn.neighbors import KernelDensity\n",
    "import plotly.graph_objects as go\n",
    "\n",
    "data = []\n",
    "col = \"Sørlige Nordsjø II\"\n",
    "diff = df[col].resample(\"1H\").mean().diff(periods=1)\n",
    "bins = np.arange(-0.7, 0.7, 0.001)\n",
    "hist, bin_edges = np.histogram(diff, bins=bins, density=True)\n",
    "data.append(go.Bar(x=bin_edges, y=hist, opacity=0.8, name=\"hourly\"))\n",
    "kde = KernelDensity(kernel=\"gaussian\", bandwidth=0.02).fit(diff.dropna().values[:, np.newaxis])\n",
    "data.append(go.Line(x=bins, y=np.exp(kde.score_samples(bins[:, np.newaxis])), name=\"hourly\"))\n",
    "\n",
    "diff = df[col].resample(\"2H\").mean().diff(periods=1)\n",
    "bins = np.arange(-0.7, 0.7, 0.001)\n",
    "hist, bin_edges = np.histogram(diff, bins=bins, density=True)\n",
    "data.append(go.Bar(x=bin_edges, y=hist, opacity=0.8, name=\"bihourly\"))\n",
    "kde = KernelDensity(kernel=\"gaussian\", bandwidth=0.02).fit(diff.dropna().values[:, np.newaxis])\n",
    "data.append(go.Line(x=bins, y=np.exp(kde.score_samples(bins[:, np.newaxis])), name=\"bihourly\"))\n",
    "\n",
    "diff = df[col].resample(\"1D\").mean().diff(periods=1)\n",
    "bins = np.arange(-0.7, 0.7, 0.008)\n",
    "hist, bin_edges = np.histogram(diff, bins=bins, density=True)\n",
    "data.append(go.Bar(x=bin_edges, y=hist, opacity=0.8, name=\"daily\"))\n",
    "kde = KernelDensity(kernel=\"gaussian\", bandwidth=0.03).fit(diff.dropna().values[:, np.newaxis])\n",
    "data.append(go.Line(x=bins, y=np.exp(kde.score_samples(bins[:, np.newaxis])), name=\"daily\"))\n",
    "\n",
    "diff = df[col].resample(\"7D\").mean().diff(periods=1)\n",
    "bins = np.arange(-0.7, 0.7, 0.01)\n",
    "hist, bin_edges = np.histogram(diff, bins=bins, density=True)\n",
    "data.append(go.Bar(x=bin_edges, y=hist, opacity=0.8, name=\"weekly\"))\n",
    "kde = KernelDensity(kernel=\"gaussian\", bandwidth=0.05).fit(diff.dropna().values[:, np.newaxis])\n",
    "data.append(go.Line(x=bins, y=np.exp(kde.score_samples(bins[:, np.newaxis])), name=\"weekly\"))\n",
    "\n",
    "diff = df[col].resample(\"1M\").mean().diff(periods=1)\n",
    "bins = np.arange(-0.7, 0.7, 0.02)\n",
    "hist, bin_edges = np.histogram(diff, bins=bins, density=True)\n",
    "data.append(go.Bar(x=bin_edges, y=hist, opacity=0.8, name=\"monthly\"))\n",
    "kde = KernelDensity(kernel=\"gaussian\", bandwidth=0.05).fit(diff.dropna().values[:, np.newaxis])\n",
    "data.append(go.Line(x=bins, y=np.exp(kde.score_samples(bins[:, np.newaxis])), name=\"monthly\"))\n",
    "# %%\n"
   ]
  },
  {
   "cell_type": "code",
   "execution_count": null,
   "id": "98ad3d56",
   "metadata": {},
   "outputs": [],
   "source": [
    "from Wind.plotly_template import my_template\n",
    "layout = go.Layout(\n",
    "    title_text=\"\", xaxis_title_text=\"Changes in wind outputs\", yaxis_title_text=\"Probability density function\", barmode=\"overlay\", template=my_template,\n",
    "    width=600, height=400, legend=dict(x=0.8, y=0.98)\n",
    ")\n",
    "\n",
    "for i,trace in enumerate(data):\n",
    "    if i//2 or i == 0:\n",
    "        trace.visible = \"legendonly\"\n",
    "\n",
    "fig = go.Figure(data=data, layout=layout)\n",
    "fig.show()\n",
    "fig.write_image(\"images/changes-wind-output-soerlige-nordsjoe-ii.pdf\")"
   ]
  },
  {
   "attachments": {},
   "cell_type": "markdown",
   "id": "fa6d9ceb",
   "metadata": {},
   "source": [
    "# Augmented Lagrangian plots"
   ]
  },
  {
   "cell_type": "code",
   "execution_count": null,
   "id": "267e713e",
   "metadata": {},
   "outputs": [],
   "source": [
    "model_files = snakemake.input[3:]"
   ]
  },
  {
   "cell_type": "code",
   "execution_count": null,
   "id": "b562f60c",
   "metadata": {},
   "outputs": [],
   "source": [
    "weights = []\n",
    "models = {}\n",
    "alphas = []\n",
    "for file in model_files:\n",
    "    alp = file.split(\"/\")[-2].split(\"_\")[-1]\n",
    "    alphas.append(alp)\n",
    "    with open(file, \"rb\") as f:\n",
    "        models[alp] = pickle.load(f)\n",
    "    weights.append(models[alp].xs[-1].numpy())"
   ]
  },
  {
   "cell_type": "code",
   "execution_count": null,
   "id": "60227cdd",
   "metadata": {},
   "outputs": [],
   "source": [
    "df = df.drop(columns=[\"All 15 wind farms\", \"Farms north of Stadt\", \"Farms south of Stadt\", \"Sum\"], errors=\"ignore\")"
   ]
  },
  {
   "cell_type": "code",
   "execution_count": null,
   "id": "d0249907",
   "metadata": {},
   "outputs": [],
   "source": [
    "alpha = \"0.3\"\n",
    "df_weights = pd.DataFrame(\n",
    "    models[alpha].xs.numpy(), columns=df.columns).iloc[::-1]"
   ]
  },
  {
   "cell_type": "code",
   "execution_count": null,
   "id": "223541c4",
   "metadata": {},
   "outputs": [],
   "source": [
    "n_cols = len(df_weights.columns)\n",
    "colormap = sns.color_palette(\"Set3\", n_cols).as_hex()\n",
    "colors = {col: color for col, color in zip(df_weights.columns, colormap)}"
   ]
  },
  {
   "cell_type": "code",
   "execution_count": null,
   "id": "839adfbd",
   "metadata": {},
   "outputs": [],
   "source": [
    "fig = df_weights.plot(\n",
    "    title=f\"With \\alpha={alpha}\", template=my_template,\n",
    "    labels=dict(value=\"Weight\", index=\"Step\"),\n",
    "    color_discrete_map=colors\n",
    ")\n",
    "fig.update_layout(xaxis=dict(range=[0,30]))\n",
    "fig.show()\n",
    "fig.write_image(\"images/hopsa.pdf\")"
   ]
  },
  {
   "cell_type": "code",
   "execution_count": null,
   "id": "5d6ec2b5",
   "metadata": {},
   "outputs": [],
   "source": []
  }
 ],
 "metadata": {
  "kernelspec": {
   "display_name": "Python 3 (ipykernel)",
   "language": "python",
   "name": "python3"
  },
  "language_info": {
   "codemirror_mode": {
    "name": "ipython",
    "version": 3
   },
   "file_extension": ".py",
   "mimetype": "text/x-python",
   "name": "python",
   "nbconvert_exporter": "python",
   "pygments_lexer": "ipython3",
   "version": "3.11.3"
  }
 },
 "nbformat": 4,
 "nbformat_minor": 5
}
