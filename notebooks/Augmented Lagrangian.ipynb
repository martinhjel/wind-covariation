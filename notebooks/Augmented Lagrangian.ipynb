{
 "cells": [
  {
   "cell_type": "code",
   "execution_count": null,
   "id": "009084a3",
   "metadata": {},
   "outputs": [],
   "source": [
    "import numpy as np\n",
    "import matplotlib.pyplot as plt\n",
    "from matplotlib.collections import LineCollection\n",
    "import pandas as pd\n",
    "import plotly.express as px\n",
    "import plotly.graph_objects as go"
   ]
  },
  {
   "cell_type": "code",
   "execution_count": null,
   "id": "f1487f9b",
   "metadata": {},
   "outputs": [],
   "source": [
    "import torch\n",
    "torch.cuda.is_available()"
   ]
  },
  {
   "cell_type": "code",
   "execution_count": null,
   "id": "120b05af",
   "metadata": {},
   "outputs": [],
   "source": [
    "torch.cuda.get_device_name(0)"
   ]
  },
  {
   "cell_type": "code",
   "execution_count": null,
   "id": "34fa29f3",
   "metadata": {},
   "outputs": [],
   "source": [
    "device = torch.device('cuda' if torch.cuda.is_available() else 'cpu')\n",
    "device"
   ]
  },
  {
   "cell_type": "code",
   "execution_count": null,
   "id": "ec154af3",
   "metadata": {},
   "outputs": [],
   "source": [
    "device = torch.device(\"cpu\")"
   ]
  },
  {
   "cell_type": "code",
   "execution_count": null,
   "id": "4cca7585",
   "metadata": {},
   "outputs": [],
   "source": [
    "N=1000\n",
    "s=np.linspace(0,10,N)\n",
    "y1=np.sin(s)\n",
    "y2=np.cos(s)\n",
    "plt.plot(y1)\n",
    "plt.plot(y2)"
   ]
  },
  {
   "cell_type": "code",
   "execution_count": null,
   "id": "dbb58986",
   "metadata": {},
   "outputs": [],
   "source": [
    "def update_identity_rho(I, mu):\n",
    "    zero = torch.tensor(0.0, dtype=torch.float64)\n",
    "    for i in range(n_weights):\n",
    "        if (-x[i]) < zero and torch.isclose(mu[i], zero):\n",
    "            I[i,i] = 0\n",
    "        else:\n",
    "            I[i,i] = rho"
   ]
  },
  {
   "cell_type": "code",
   "execution_count": null,
   "id": "57b59d8d",
   "metadata": {},
   "outputs": [],
   "source": [
    "def update_dual_variables(lmbda, mu):\n",
    "    with torch.no_grad():\n",
    "        lmbda = lmbda + rho*(x.sum()-1)\n",
    "        mu = torch.maximum(torch.zeros_like(x), mu+rho*(-x)) "
   ]
  },
  {
   "cell_type": "code",
   "execution_count": null,
   "id": "7f5e9d28",
   "metadata": {},
   "outputs": [],
   "source": [
    "def are_kkt_conditions_verified(atol=1e-4):\n",
    "    # dx L = 0\n",
    "    dx = torch.autograd.grad(lf(x, lmbda, mu), x)[0]\n",
    "    if torch.isclose(dx, torch.zeros_like(dx), atol=atol).all():\n",
    "        # c(x) = 0 | x.sum()-1 = 0\n",
    "        if torch.isclose((x.sum()-1), torch.tensor(0.0, dtype=torch.float64), atol=atol):\n",
    "            # h(x) <= 0 | (-x) <= 0\n",
    "            if ((-x) <= 0.0).all():\n",
    "                # mu >= 0\n",
    "                if (mu >= 0.0).all():\n",
    "                    # mu*.h(x) = 0 \n",
    "                    if torch.isclose((-x)*mu, torch.zeros_like(mu), atol=atol).all():\n",
    "                        return True\n",
    "                    \n",
    "    return False"
   ]
  },
  {
   "cell_type": "code",
   "execution_count": null,
   "id": "cbb7ad8a",
   "metadata": {},
   "outputs": [],
   "source": [
    "def f(x, loss_fn=\"Var\", alp=None):\n",
    "    y = torch.matmul(x,Y)\n",
    "    if loss_fn == \"Var\":        \n",
    "        return y.var()\n",
    "    elif loss_fn == \"Cov\":\n",
    "        cov_matrix = y.cov()\n",
    "        return torch.triu(cov_matrix, diagonal=1).sum()\n",
    "    elif loss_fn == \"Mean+Var\":\n",
    "        return alp*y.mean() + (1-alp)*y.var()\n",
    "    elif loss_fn == \"Mean+Cov\":\n",
    "        cov_matrix = y.cov()\n",
    "        return alp*y.mean() + (1-alp)*torch.triu(cov_matrix, diagonal=1).sum()\n",
    "\n",
    "def lf(x, lmbda, mu, loss_fn=\"Var\"):\n",
    "    return f(x) + lmbda * (x.sum() - 1) + torch.matmul(-x,mu)\n",
    "\n",
    "def lf_rho(x, lmbda, mu, rho, loss_fn=\"Var\"):\n",
    "    return lf(x,lmbda,mu) + rho/2*(x.sum()-1)**2 + 1/2*torch.matmul(torch.matmul(-x,I_rho),(-x))"
   ]
  },
  {
   "cell_type": "code",
   "execution_count": null,
   "id": "9795d9c8",
   "metadata": {},
   "outputs": [],
   "source": [
    "Y = np.stack((y1,y2),axis=-1).T\n",
    "\n",
    "n_weights = Y.shape[0]\n",
    "rho = torch.tensor(3.0, dtype=torch.float64)\n",
    "\n",
    "Y=torch.from_numpy(Y)\n",
    "Y=Y.to(device)\n",
    "\n",
    "x = np.random.rand(n_weights)\n",
    "x=x/x.sum(axis=-1)\n",
    "x = torch.from_numpy(x)\n",
    "x.requires_grad = True\n",
    "x = x.to(device)\n",
    "\n",
    "lmbda = torch.tensor(0.5, requires_grad=True, device=device)\n",
    "mu = torch.tensor([0.5 for i in range(n_weights)], requires_grad=True, dtype=torch.float64, device=device)\n",
    "\n",
    "I_rho = np.eye(Y.shape[0])\n",
    "I_rho = torch.from_numpy(I_rho)*rho\n",
    "I_rho = I_rho.to(device)\n",
    "\n",
    "objs = []\n",
    "xs = [x.cpu().detach().numpy().copy()]\n",
    "lmbdas = [lmbda.item()]\n",
    "mus = [mu.cpu().detach().numpy().copy()]\n",
    "\n",
    "rho_scaling = torch.tensor(1.1,dtype=torch.float64)\n",
    "step_size = torch.tensor(1e-3, dtype=torch.float64)\n",
    "rhos = [rho.item()]"
   ]
  },
  {
   "cell_type": "code",
   "execution_count": null,
   "id": "a6fc8fe7",
   "metadata": {},
   "outputs": [],
   "source": [
    "%%time\n",
    "n_steps = 250\n",
    "n_iterations = 40\n",
    "for it in range(n_iterations):\n",
    "    # solve for current lagrangian multipliers\n",
    "    for i in range(n_steps):\n",
    "        obj = lf_rho(x, lmbda, mu, rho, loss_fn=\"Cov\")\n",
    "        dx = torch.autograd.grad(obj, x)\n",
    "        with torch.no_grad():\n",
    "            x -= step_size * dx[0]\n",
    "        xs.append(x.cpu().detach().numpy().copy())\n",
    "        objs.append([obj.item(), lf(x, lmbda, mu).item(), f(x).item()])\n",
    "    objs.append([lf_rho(x,lmbda, mu, rho).item(), lf(x, lmbda, mu).item(), f(x).item()])    \n",
    "\n",
    "    mus.append(mu.cpu().detach().numpy().copy())\n",
    "    lmbdas.append(lmbda.item())\n",
    "    # Update lagrangian multipliers and rho\n",
    "    with torch.no_grad():\n",
    "        lmbda = lmbda + rho*(x.sum()-1)\n",
    "        mu = torch.maximum(torch.zeros_like(x), mu+rho*(-x)) \n",
    "    update_identity_rho(I_rho, mu)\n",
    "        \n",
    "    rho = rho*rho_scaling\n",
    "    rhos.append(rho.item())\n",
    "    \n",
    "    # Assert KKT Conditions\n",
    "    converged = are_kkt_conditions_verified()\n",
    "    \n",
    "    if converged:\n",
    "        break"
   ]
  },
  {
   "cell_type": "code",
   "execution_count": null,
   "id": "82d8af36",
   "metadata": {},
   "outputs": [],
   "source": [
    "plt.plot([i[0] for i in objs], label=\"lf_rho\")\n",
    "plt.plot([i[1] for i in objs], label=\"lf\")\n",
    "plt.plot([i[2] for i in objs], label=\"f\")\n",
    "plt.legend()"
   ]
  },
  {
   "cell_type": "code",
   "execution_count": null,
   "id": "a7381bc1",
   "metadata": {},
   "outputs": [],
   "source": [
    "plt.plot(xs);\n",
    "print(xs[-1])"
   ]
  },
  {
   "cell_type": "code",
   "execution_count": null,
   "id": "e457730f",
   "metadata": {},
   "outputs": [],
   "source": [
    "plt.plot(rhos)"
   ]
  },
  {
   "cell_type": "code",
   "execution_count": null,
   "id": "093178d6",
   "metadata": {},
   "outputs": [],
   "source": [
    "are_kkt_conditions_verified()"
   ]
  },
  {
   "cell_type": "markdown",
   "id": "1b770a98",
   "metadata": {},
   "source": [
    "# Get wind data"
   ]
  },
  {
   "cell_type": "code",
   "execution_count": null,
   "id": "277f4eb1",
   "metadata": {},
   "outputs": [],
   "source": [
    "from getpass import getpass"
   ]
  },
  {
   "cell_type": "code",
   "execution_count": null,
   "id": "e5de11f9",
   "metadata": {},
   "outputs": [],
   "source": [
    "from io import StringIO"
   ]
  },
  {
   "cell_type": "code",
   "execution_count": null,
   "id": "a84aed25",
   "metadata": {},
   "outputs": [],
   "source": [
    "from datetime import datetime, timedelta\n",
    "from azure.storage.fileshare import ShareServiceClient, ShareDirectoryClient"
   ]
  },
  {
   "cell_type": "code",
   "execution_count": null,
   "id": "49cec965",
   "metadata": {},
   "outputs": [],
   "source": [
    "from configparser import RawConfigParser"
   ]
  },
  {
   "cell_type": "code",
   "execution_count": null,
   "id": "08f4fc0e",
   "metadata": {},
   "outputs": [],
   "source": [
    "try:\n",
    "    config = RawConfigParser()\n",
    "    config.read(\"../config.ini\")\n",
    "    sas_token_url = config[\"File Storage\"][\"sas_token\"]\n",
    "except:\n",
    "    #url to the root file share folder (\"data\")\n",
    "    sas_token_url = getpass(\"sas taken and url: \")"
   ]
  },
  {
   "cell_type": "code",
   "execution_count": null,
   "id": "34bfdf80",
   "metadata": {},
   "outputs": [],
   "source": [
    "share_service_client = ShareServiceClient(account_url=sas_token_url)"
   ]
  },
  {
   "cell_type": "code",
   "execution_count": null,
   "id": "bf73260c",
   "metadata": {},
   "outputs": [],
   "source": [
    "dir_client = ShareDirectoryClient(account_url=sas_token_url, directory_path=\"data\", share_name=\"wind-covariation\")"
   ]
  },
  {
   "cell_type": "code",
   "execution_count": null,
   "id": "7e6b1c53",
   "metadata": {},
   "outputs": [],
   "source": [
    "[i[\"name\"] for i in dir_client.list_directories_and_files()]"
   ]
  },
  {
   "cell_type": "code",
   "execution_count": null,
   "id": "2f9f3c84",
   "metadata": {},
   "outputs": [],
   "source": [
    "file_client = dir_client.get_file_client(\"offshore_wind_locations.csv\")\n",
    "df = pd.read_csv(StringIO(file_client.download_file().content_as_text()))\n",
    "df"
   ]
  },
  {
   "cell_type": "code",
   "execution_count": null,
   "id": "659bc674",
   "metadata": {},
   "outputs": [],
   "source": []
  },
  {
   "cell_type": "code",
   "execution_count": null,
   "id": "5557a1ed",
   "metadata": {},
   "outputs": [],
   "source": [
    "dir_client = ShareDirectoryClient(account_url=sas_token_url, directory_path=\"data/nve/profiler/Wind and solar\",\n",
    "                                  share_name=\"wind-covariation\")"
   ]
  },
  {
   "cell_type": "code",
   "execution_count": null,
   "id": "b4dfa019",
   "metadata": {},
   "outputs": [],
   "source": [
    "[i[\"name\"] for i in dir_client.list_directories_and_files()]"
   ]
  },
  {
   "cell_type": "markdown",
   "id": "0e11f9dd",
   "metadata": {},
   "source": [
    "# Load modules"
   ]
  },
  {
   "cell_type": "code",
   "execution_count": null,
   "id": "fb48b138",
   "metadata": {},
   "outputs": [],
   "source": [
    "from geopy.distance import geodesic\n",
    "from scipy.optimize import curve_fit"
   ]
  },
  {
   "cell_type": "code",
   "execution_count": null,
   "id": "bcd5034a",
   "metadata": {},
   "outputs": [],
   "source": [
    "import seaborn as sns"
   ]
  },
  {
   "cell_type": "code",
   "execution_count": null,
   "id": "ca2d7abd",
   "metadata": {},
   "outputs": [],
   "source": [
    "import numpy as np\n",
    "import pandas as pd\n",
    "import plotly.express as px\n",
    "\n",
    "import sys \n",
    "import os\n",
    "sys.path.insert(1, os.path.join(sys.path[0], '..'))\n",
    "from Wind.analyze import (\n",
    "    get_corr_figure,\n",
    "    get_hours_shift_figure,\n",
    "    get_mean_std_wind_figure,\n",
    "    get_corr_distance_figure,\n",
    "    get_line_plot_with_mean,\n",
    "    get_histogram_2d_figure,\n",
    "    get_scatter_2d_figure,\n",
    "    get_scatter_with_kernel_density_2d_figure,\n",
    "    get_scatter_density_2d_figure,\n",
    ")"
   ]
  },
  {
   "cell_type": "code",
   "execution_count": null,
   "id": "eed2aef7",
   "metadata": {},
   "outputs": [],
   "source": [
    "dir_client = ShareDirectoryClient(account_url=sas_token_url, directory_path=\"data\", share_name=\"wind-covariation\")\n",
    "\n",
    "file_client = dir_client.get_file_client(\"offshore_wind_locations.csv\")\n",
    "df_wind_locations = pd.read_csv(StringIO(file_client.download_file().content_as_text()))\n",
    "\n",
    "file_client = dir_client.get_file_client(\"nve_offshore_wind_areas.csv\")\n",
    "df_nve_wind_locations = pd.read_csv(StringIO(file_client.download_file().content_as_text()))\n",
    "\n",
    "df_nve_wind_locations = df_nve_wind_locations.sort_values(by=\"lat\")  # Sort by south to north\n",
    "\n",
    "df_locations = pd.concat([df_wind_locations, df_nve_wind_locations], axis=0)\n",
    "df_locations = df_locations.reset_index(drop=True)\n",
    "df_locations = df_locations.sort_values(by=\"lat\")  # Sort by south to north"
   ]
  },
  {
   "cell_type": "code",
   "execution_count": null,
   "id": "5e5496c9",
   "metadata": {},
   "outputs": [],
   "source": [
    "# Plot locations on map\n",
    "fig = px.scatter_mapbox(\n",
    "    df_locations,\n",
    "    lat=\"lat\",\n",
    "    lon=\"lon\",\n",
    "    color=\"location\",\n",
    "    zoom=3,\n",
    "    size_max=10,\n",
    "    height=600,\n",
    "    size=[3 for _ in df_locations.iterrows()],\n",
    ")\n",
    "fig.update_layout(mapbox_style=\"open-street-map\")\n",
    "fig.update_layout(margin={\"r\": 0, \"t\": 0, \"l\": 0, \"b\": 0})\n",
    "fig.show(config=dict(editable=True))"
   ]
  },
  {
   "cell_type": "code",
   "execution_count": null,
   "id": "19dc2d94",
   "metadata": {},
   "outputs": [],
   "source": [
    "df_locations"
   ]
  },
  {
   "cell_type": "code",
   "execution_count": null,
   "id": "3d6d4ade",
   "metadata": {},
   "outputs": [],
   "source": [
    "dir_client = ShareDirectoryClient(\n",
    "    account_url=sas_token_url,\n",
    "    directory_path=\"data\", share_name=\"wind-covariation\"\n",
    ")\n",
    "\n",
    "# Load data\n",
    "data = []\n",
    "for l in df_locations[\"location\"].values:\n",
    "    file_client = dir_client.get_file_client(f\"{l}.csv\")\n",
    "    df_temp = pd.read_csv(StringIO(file_client.download_file().content_as_text()), index_col=0, parse_dates=True)\n",
    "#     pd.read_csv(f\"data/{l}.csv\", index_col=0, parse_dates=True)\n",
    "    data.append(df_temp)\n",
    "\n",
    "df = pd.concat(data, axis=1)\n",
    "df = df[df_locations[\"location\"]]  # Sort by south to north\n",
    "\n",
    "df.info()\n",
    "df.describe()"
   ]
  },
  {
   "cell_type": "code",
   "execution_count": null,
   "id": "1814c34e",
   "metadata": {},
   "outputs": [],
   "source": [
    "fig = get_corr_figure(df)\n",
    "fig.show()\n",
    "\n",
    "fig = get_corr_distance_figure(df, df_locations)\n",
    "fig.show()"
   ]
  },
  {
   "cell_type": "code",
   "execution_count": null,
   "id": "94f231c7",
   "metadata": {},
   "outputs": [],
   "source": [
    "locs = []\n",
    "for _, row in df_locations.iterrows():\n",
    "    locs.append((row[\"lat\"], row[\"lon\"]))\n",
    "\n",
    "distances = []\n",
    "for i in locs:\n",
    "    distances.append([])\n",
    "    for j in locs:\n",
    "        distances[-1].append(geodesic(i, j).km)\n",
    "\n",
    "df_corr = df.corr()\n",
    "mask = np.triu(np.ones_like(df_corr, dtype=bool))\n",
    "df_corr = df_corr.mask(mask).round(2)\n",
    "\n",
    "df_distance = pd.DataFrame(data=distances, index=df_corr.index, columns=df_corr.columns)\n",
    "mask = np.triu(np.ones_like(df_distance, dtype=bool))\n",
    "df_distance = df_distance.mask(mask).round(2)\n",
    "\n",
    "corr_list = []\n",
    "for i, row in df_corr.iterrows():\n",
    "    for j, v in row.items():\n",
    "        if not np.isnan(v):\n",
    "            corr_list.append((f\"{i} <-> {j}\", v))\n",
    "dist_list = []\n",
    "for i, row in df_distance.iterrows():\n",
    "    for j, v in row.items():\n",
    "        if not np.isnan(v):\n",
    "            dist_list.append((f\"{i} <-> {j}\", v))\n",
    "\n",
    "df_temp = pd.DataFrame(corr_list)\n",
    "df_temp = df_temp.set_index(0)\n",
    "df_temp = df_temp.rename(columns={1: \"Correlation\"})\n",
    "\n",
    "df_temp1 = pd.DataFrame(dist_list)\n",
    "df_temp1 = df_temp1.set_index(0)\n",
    "df_temp1 = df_temp1.rename(columns={1: \"Distance [km]\"})\n",
    "\n",
    "df_corr_dist = pd.concat([df_temp, df_temp1], axis=1)\n",
    "df_corr_dist = df_corr_dist.reset_index()\n",
    "df_corr_dist = df_corr_dist.rename(columns={0: \"Span\"})\n",
    "\n",
    "# Fit an exponential function\n",
    "def func(x, a, b, c):\n",
    "    return a * np.exp(-b * x) + c\n",
    "\n",
    "popt, pcov = curve_fit(\n",
    "    func, df_corr_dist[\"Distance [km]\"].values, df_corr_dist[\"Correlation\"].values, p0=[1, 0.005, 0]\n",
    ")\n",
    "\n",
    "xn = np.linspace(df_corr_dist[\"Distance [km]\"].min(), df_corr_dist[\"Distance [km]\"].max(), 2500)"
   ]
  },
  {
   "cell_type": "code",
   "execution_count": null,
   "id": "f0efc35d",
   "metadata": {},
   "outputs": [],
   "source": [
    "import plotly.graph_objects as go"
   ]
  },
  {
   "cell_type": "code",
   "execution_count": null,
   "id": "daeff886",
   "metadata": {},
   "outputs": [],
   "source": [
    "my_template = go.layout.Template()\n",
    "\n",
    "my_template.layout.legend = dict(yanchor=\"top\", xanchor=\"right\", y = 0.95, x=0.95,\n",
    "                              bgcolor='rgba(255, 255, 255, 0.8)', bordercolor='black', borderwidth=1,\n",
    "                                font=dict(size=12, family='Times New Roman'))\n",
    "\n",
    "my_template.layout.xaxis = dict(\n",
    "    zeroline=False, zerolinewidth=1, zerolinecolor='Black', mirror='all',\n",
    "    showgrid=False, ticks='inside', showline=True, tickfont=dict(size=14, family='Times New Roman'),\n",
    "    title_font=dict(size=14, family='Times New Roman'))\n",
    "my_template.layout.yaxis = dict(\n",
    "    zeroline=False, zerolinewidth=1, zerolinecolor='Black', mirror='all',\n",
    "    showgrid=False, ticks='inside', showline=True, tickfont=dict(size=14, family='Times New Roman'),\n",
    "    title_font=dict(size=14, family='Times New Roman'))\n",
    "my_template.layout.margin = dict(l=70, r=10, b=50, t=10)\n",
    "my_template.layout.width = 700\n",
    "my_template.layout.height = 400\n",
    "\n",
    "data = [\n",
    "    go.Scatter(\n",
    "        x=df_corr_dist[\"Distance [km]\"],\n",
    "        y=df_corr_dist[\"Correlation\"],\n",
    "        text=df_corr_dist[\"Span\"],\n",
    "#         marker_color=\"Black\",\n",
    "        marker=dict(\n",
    "            color=\"Black\",\n",
    "            size=5,\n",
    "            line=dict(width=0)\n",
    "        ),\n",
    "        mode=\"markers\",\n",
    "        name=\"Between two wind farms\",\n",
    "    ),\n",
    "    go.Scatter(\n",
    "        x=xn,\n",
    "        y=func(xn, *popt),\n",
    "#         marker_color=,\n",
    "#         marker_linewidth=2,\n",
    "        line=dict(\n",
    "            color=\"#5D8CC0\",\n",
    "            width=3\n",
    "        ),\n",
    "        name=r\"$1.05 \\exp(\\frac{-1}{490.4}x) + 0.02$\",\n",
    "    ),\n",
    "]\n",
    "\n",
    "fig = go.Figure(data=data)\n",
    "\n",
    "fig.update_layout(\n",
    "    template=my_template,\n",
    "    title=f\"\",\n",
    "    xaxis_title='Distance [km]',\n",
    "    yaxis_title='Correlation [-]'\n",
    ")\n",
    "fig.show()\n",
    "fig.write_image(\"../images/corr-distance.pdf\")"
   ]
  },
  {
   "cell_type": "code",
   "execution_count": null,
   "id": "c07cbac5",
   "metadata": {},
   "outputs": [],
   "source": [
    "f\"{popt[0]:.2f} - {1/popt[1]:.1f} - {popt[2]:.2f}\""
   ]
  },
  {
   "cell_type": "code",
   "execution_count": null,
   "id": "35c18cd9",
   "metadata": {},
   "outputs": [],
   "source": []
  },
  {
   "cell_type": "code",
   "execution_count": null,
   "id": "71497414",
   "metadata": {},
   "outputs": [],
   "source": []
  },
  {
   "cell_type": "code",
   "execution_count": null,
   "id": "11a9e3df",
   "metadata": {},
   "outputs": [],
   "source": [
    "df.columns"
   ]
  },
  {
   "cell_type": "code",
   "execution_count": null,
   "id": "4a0697eb",
   "metadata": {},
   "outputs": [],
   "source": [
    "df_nve_wind_locations[\"location\"]"
   ]
  },
  {
   "cell_type": "code",
   "execution_count": null,
   "id": "1b070c9c",
   "metadata": {},
   "outputs": [],
   "source": [
    "froya_lat = df_nve_wind_locations[df_nve_wind_locations[\"location\"]==\"Frøyabanken\"][\"lat\"].values[0]\n",
    "\n",
    "cols_south = df_nve_wind_locations[df_nve_wind_locations[\"lat\"]<froya_lat][\"location\"].to_list()\n",
    "cols_north = df_nve_wind_locations[df_nve_wind_locations[\"lat\"]>=froya_lat][\"location\"].to_list()"
   ]
  },
  {
   "cell_type": "code",
   "execution_count": null,
   "id": "83e72e2b",
   "metadata": {},
   "outputs": [],
   "source": [
    "df[cols_north]"
   ]
  },
  {
   "cell_type": "code",
   "execution_count": null,
   "id": "58ec027f",
   "metadata": {},
   "outputs": [],
   "source": [
    "n_shifts = 24\n",
    "quantile = 0.99\n",
    "df[\"All 15 wind farms\"] = df.mean(axis=1)\n",
    "df[\"Farms north of Stadt\"] = df[cols_north].mean(axis=1)\n",
    "df[\"Farms south of Stadt\"] = df[cols_south].mean(axis=1)\n",
    "\n",
    "df_t = df[[\"Utsira nord\", \"Sørlige Nordsjø I\", \"Nordmela\", \"Farms south of Stadt\",\"Farms north of Stadt\",\"All 15 wind farms\"]]\n",
    "df_shift = pd.concat([df_t.diff(i).quantile(q=quantile) for i in range(n_shifts)], axis=1).T\n",
    "\n",
    "df_shift.index = [i for i in range(n_shifts)]\n",
    "\n",
    "df_shift.index.name = \"hour shift\"\n",
    "n_cols = len(df_shift.columns)\n",
    "colormap = ['#a6cee3','#1f78b4','#b2df8a','#33a02c','#fb9a99','#e31a1c']\n",
    "# colormap = ['#8dd3c7','#ffffb3','#bebada','#fb8072','#80b1d3','#fdb462']\n",
    "# colormap = sns.color_palette(\"Set3\", n_cols).as_hex()\n",
    "colors = {col: color for col, color in zip(df_shift.columns, colormap)}\n",
    "\n",
    "fig = df_shift.plot(\n",
    "    title=f\"\", template=my_template, labels=dict(value=\"Absolute change in power output\"), color_discrete_map=colors\n",
    ")\n",
    "\n",
    "df = df.drop(columns=[\"All 15 wind farms\", \"Farms north of Stadt\", \"Farms south of Stadt\"])\n",
    "\n",
    "fig.update_layout(\n",
    "    legend_title=\"\",\n",
    "    legend=dict(y = 0.95, x=0.30),\n",
    "    yaxis_range = [0,1]                \n",
    ")\n",
    "\n",
    "fig.write_image(f\"../images/shift-quantile{quantile}.pdf\")\n",
    "fig.show()"
   ]
  },
  {
   "cell_type": "code",
   "execution_count": null,
   "id": "80f5e8b8",
   "metadata": {},
   "outputs": [],
   "source": [
    "df.columns"
   ]
  },
  {
   "cell_type": "code",
   "execution_count": null,
   "id": "b2a3d027",
   "metadata": {},
   "outputs": [],
   "source": [
    "colors=sns.color_palette(\"mako\",5)"
   ]
  },
  {
   "cell_type": "code",
   "execution_count": null,
   "id": "eeaa16b0",
   "metadata": {},
   "outputs": [],
   "source": [
    "colors"
   ]
  },
  {
   "cell_type": "markdown",
   "id": "47eb9f68",
   "metadata": {},
   "source": [
    "# Line plot"
   ]
  },
  {
   "cell_type": "code",
   "execution_count": null,
   "id": "b1413040",
   "metadata": {},
   "outputs": [],
   "source": [
    "area = \"Utsira nord\"\n",
    "resample_period='7D'\n",
    "\n",
    "ind = df.index.map(lambda x: x - pd.Timestamp(year=x.year, month=1, day=1, hour=0, minute=0))\n",
    "\n",
    "dff = pd.DataFrame(df[area].values, index=ind, columns=[area])\n",
    "dff[\"Year\"] = df.index.year\n",
    "dff = dff.reset_index().pivot(index=\"index\", columns=\"Year\").dropna()\n",
    "dff.columns = dff.columns.droplevel()\n",
    "dff.index = dff.index + pd.Timestamp(\"1970-1-1\")  # Hack to show dates in figure\n",
    "years = dff.columns\n",
    "\n",
    "dff = dff.resample(resample_period).mean()\n",
    "\n",
    "dff = dff.reset_index(names=\"date\")\n",
    "\n",
    "fig = px.line(\n",
    "    dff,\n",
    "    x=\"date\",\n",
    "    y=years,\n",
    "    hover_data={\"date\": \"|%d. %B, %H:%M\"},\n",
    "#     color_discrete_sequence=px.colors.sequential.Blues,\n",
    "    color_discrete_sequence=sns.color_palette(\"mako\",len(dff.columns)).as_hex()\n",
    ")\n",
    "fig.update_traces(opacity=0.5)\n",
    "\n",
    "x = list(dff[\"date\"])\n",
    "y = dff.mean(axis=1).values\n",
    "\n",
    "y_upper = y + dff.std(axis=1).values\n",
    "y_lower = y - dff.std(axis=1).values\n",
    "\n",
    "fig.add_traces(\n",
    "    [\n",
    "        go.Scatter(\n",
    "            x=np.concatenate((x, x[::-1])),  # x, then x reversed\n",
    "            y=np.concatenate((y_upper, y_lower[::-1])),  # upper, then lower reversed\n",
    "            fill=\"toself\",\n",
    "            fillcolor=\"#A9B7C7\",\n",
    "            line=dict(color=\"#A9B7C7\"),\n",
    "            hoverinfo=\"skip\",\n",
    "            showlegend=False,\n",
    "            name=\"std\",\n",
    "        ),\n",
    "        go.Scatter(x=x, y=y, name=\"Mean\", line=dict(color=\"#3a4454\"), mode=\"lines\"),\n",
    "    ]\n",
    ")\n",
    "\n",
    "fig.update_xaxes(\n",
    "    dtick=\"M1\",\n",
    "    tickformat=\"%j\",\n",
    "    ticklabelmode=\"period\"\n",
    ")\n",
    "\n",
    "my_template.layout.legend = dict(yanchor=None, xanchor=None,# y = 0.95, x=1.2,\n",
    "                              bgcolor='rgba(255, 255, 255, 0.8)', bordercolor='black', borderwidth=1,\n",
    "                                font=dict(size=12, family='Times New Roman'))\n",
    "fig.update_layout(\n",
    "    title=f\"Area: {area}, with resample period of {resample_period}\",\n",
    "    template=my_template,\n",
    "    xaxis_title=\"Day\",\n",
    "    yaxis_title=\"Wind power output [-]\",\n",
    ")\n",
    "\n",
    "if resample_period == '1H':\n",
    "    viz_cols = [\"Mean\", \"std\"]\n",
    "else:\n",
    "    viz_cols = [\"Mean\", \"std\", \"2010\", \"2013\"]\n",
    "\n",
    "fig.update_traces(visible=\"legendonly\", selector=lambda t: not t.name in viz_cols)\n",
    "\n",
    "fig.update_xaxes(\n",
    "    dtick=\"M1\",\n",
    "    tickformat=\"%b\")\n",
    "\n",
    "fig.show()"
   ]
  },
  {
   "cell_type": "code",
   "execution_count": null,
   "id": "0465287f",
   "metadata": {},
   "outputs": [],
   "source": [
    "fig.write_image(f\"../images/{area}-std-wind-{resample_period}.pdf\")"
   ]
  },
  {
   "cell_type": "code",
   "execution_count": null,
   "id": "3f8e058a",
   "metadata": {},
   "outputs": [],
   "source": [
    "dff"
   ]
  },
  {
   "cell_type": "markdown",
   "id": "b313ffe7",
   "metadata": {},
   "source": [
    "# Distributions"
   ]
  },
  {
   "cell_type": "code",
   "execution_count": null,
   "id": "0d6b2f3c",
   "metadata": {},
   "outputs": [],
   "source": [
    "from sklearn.neighbors import KernelDensity\n",
    "\n",
    "N=50\n",
    "n_scatter_samples=500\n",
    "bandwidth=0.1\n",
    "rtol=0.01\n",
    "kernel=\"gaussian\"\n",
    "z_max = 2.85\n",
    "\n",
    "area_a=\"Sørlige Nordsjø II\"\n",
    "area_b=\"Nordmela\"\n",
    "\n",
    "area_a=\"Sørlige Nordsjø II\"\n",
    "area_b=\"DE West\"\n",
    "\n",
    "x = np.linspace(0.0, 1.0, N)\n",
    "y = np.linspace(0.0, 1.0, N)\n",
    "X, Y = np.meshgrid(x, y)\n",
    "positions = np.vstack([Y.ravel(), X.ravel()])\n",
    "\n",
    "values = np.vstack([df[area_a].values, df[area_b].values])\n",
    "\n",
    "# Using scikit learn\n",
    "kde = KernelDensity(bandwidth=bandwidth, rtol=rtol, kernel=kernel).fit(values.T)\n",
    "Z = np.reshape(np.exp(kde.score_samples(positions.T)), X.shape)\n",
    "\n",
    "dff = df.sample(n_scatter_samples)\n",
    "\n",
    "data = [\n",
    "    go.Contour(\n",
    "        z=Z,\n",
    "        x=x,\n",
    "        y=y,\n",
    "        zmax=z_max,\n",
    "        zauto=False,\n",
    "        colorscale=\"Blues\",\n",
    "        # reversescale=True,\n",
    "        opacity=0.9,\n",
    "        contours=go.contour.Contours(showlines=False),\n",
    "        colorbar=dict(lenmode=\"fraction\", len=0.9, y=0.42),\n",
    "    ),\n",
    "    go.Scatter(\n",
    "        x=dff[area_b],\n",
    "        y=dff[area_a],\n",
    "        mode=\"markers\",\n",
    "        marker=dict(line_width=0, opacity=0.3, color=\"#778DA9\", symbol=\"x\"),\n",
    "    ),\n",
    "    go.Histogram(\n",
    "        x=df[area_b].values, name=f\"x \", yaxis=\"y2\", histnorm=\"probability density\", marker_color=\"rgb(220,220,220)\"\n",
    "    ),\n",
    "    go.Histogram(\n",
    "        y=df[area_a].values, name=f\"y \", xaxis=\"x2\", histnorm=\"probability density\", marker_color=\"rgb(220,220,220)\"\n",
    "    ),\n",
    "]\n",
    "\n",
    "layout = go.Layout(\n",
    "    # title=\"\",\n",
    "    # font=go.layout.Font(family=\"Georgia, serif\", color=\"#635F5D\"),\n",
    "    showlegend=False,\n",
    "    autosize=False,\n",
    "    width=650,\n",
    "    height=650,\n",
    "    xaxis=dict(domain=[0, 0.85], range=[0, 1], showgrid=False, nticks=7, title=area_b, zeroline=False),\n",
    "    yaxis=dict(domain=[0, 0.85], range=[0, 1], showgrid=False, nticks=7, title=area_a),\n",
    "    margin=go.layout.Margin(l=20, r=20, b=20, t=20),\n",
    "    xaxis2=dict(domain=[0.87, 1], showgrid=False, nticks=7, title=\"\", visible=False),\n",
    "    yaxis2=dict(domain=[0.87, 1], showgrid=False, nticks=7, title=\"\", visible=False),\n",
    "    # paper_bgcolor='rgb(233,233,233)',\n",
    "    plot_bgcolor=\"rgb(255,255,255)\",\n",
    ")\n",
    "\n",
    "fig = go.Figure(data=data, layout=layout)\n",
    "\n",
    "fig.show()"
   ]
  },
  {
   "cell_type": "code",
   "execution_count": null,
   "id": "90e43849",
   "metadata": {},
   "outputs": [],
   "source": [
    "def latinfy(string):\n",
    "    return string.replace(\"æ\",\"ae\").replace(\"ø\",\"oe\").replace(\"å\",\"aa\")"
   ]
  },
  {
   "cell_type": "code",
   "execution_count": null,
   "id": "13a245cc",
   "metadata": {},
   "outputs": [],
   "source": [
    "fig.write_image(f\"../images/scatter-{latinfy(area_a)}-{latinfy(area_b)}.pdf\")"
   ]
  },
  {
   "cell_type": "code",
   "execution_count": null,
   "id": "59bffcd2",
   "metadata": {},
   "outputs": [],
   "source": [
    "fig = go.Figure(data=[go.Surface(z=Z, x=x, y=y)])\n",
    "fig.update_layout(title='', autosize=False,\n",
    "                  width=1000, height=1000,\n",
    "                  margin=dict(l=65, r=50, b=65, t=90))"
   ]
  },
  {
   "cell_type": "code",
   "execution_count": null,
   "id": "cdf9551f",
   "metadata": {},
   "outputs": [],
   "source": []
  },
  {
   "cell_type": "code",
   "execution_count": null,
   "id": "6b106533",
   "metadata": {},
   "outputs": [],
   "source": []
  },
  {
   "cell_type": "code",
   "execution_count": null,
   "id": "07da5a22",
   "metadata": {},
   "outputs": [],
   "source": []
  },
  {
   "cell_type": "code",
   "execution_count": null,
   "id": "b3bcab9f",
   "metadata": {},
   "outputs": [],
   "source": []
  }
 ],
 "metadata": {
  "kernelspec": {
   "display_name": ".venv",
   "language": "python",
   "name": "python3"
  },
  "language_info": {
   "codemirror_mode": {
    "name": "ipython",
    "version": 3
   },
   "file_extension": ".py",
   "mimetype": "text/x-python",
   "name": "python",
   "nbconvert_exporter": "python",
   "pygments_lexer": "ipython3",
   "version": "3.10.9 (main, Jan 11 2023, 15:21:40) [GCC 11.2.0]"
  },
  "toc": {
   "base_numbering": 1,
   "nav_menu": {},
   "number_sections": true,
   "sideBar": true,
   "skip_h1_title": false,
   "title_cell": "Table of Contents",
   "title_sidebar": "Contents",
   "toc_cell": false,
   "toc_position": {},
   "toc_section_display": true,
   "toc_window_display": false
  },
  "vscode": {
   "interpreter": {
    "hash": "b65c887fddacdd72336dad496d46c81edda87fd0d5439bae7a7f24415b75ee9b"
   }
  }
 },
 "nbformat": 4,
 "nbformat_minor": 5
}
